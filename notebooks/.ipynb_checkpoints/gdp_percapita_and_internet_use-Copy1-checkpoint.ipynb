{
 "cells": [
  {
   "cell_type": "code",
   "execution_count": 1,
   "id": "d2ca79d9",
   "metadata": {},
   "outputs": [],
   "source": [
    "import pandas as pd\n",
    "import numpy as np\n",
    "import matplotlib.pyplot as plt\n",
    "import seaborn as sns\n",
    "\n",
    "%matplotlib inline"
   ]
  },
  {
   "cell_type": "code",
   "execution_count": 2,
   "id": "79e64c8e",
   "metadata": {},
   "outputs": [],
   "source": [
    "# 4. Using the pandas read_csv() method"
   ]
  },
  {
   "cell_type": "code",
   "execution_count": 3,
   "id": "9f5e4f09",
   "metadata": {},
   "outputs": [
    {
     "data": {
      "text/html": [
       "<div>\n",
       "<style scoped>\n",
       "    .dataframe tbody tr th:only-of-type {\n",
       "        vertical-align: middle;\n",
       "    }\n",
       "\n",
       "    .dataframe tbody tr th {\n",
       "        vertical-align: top;\n",
       "    }\n",
       "\n",
       "    .dataframe thead th {\n",
       "        text-align: right;\n",
       "    }\n",
       "</style>\n",
       "<table border=\"1\" class=\"dataframe\">\n",
       "  <thead>\n",
       "    <tr style=\"text-align: right;\">\n",
       "      <th></th>\n",
       "      <th>Country or Area</th>\n",
       "      <th>Year</th>\n",
       "      <th>Value</th>\n",
       "      <th>Value Footnotes</th>\n",
       "    </tr>\n",
       "  </thead>\n",
       "  <tbody>\n",
       "    <tr>\n",
       "      <th>0</th>\n",
       "      <td>Afghanistan</td>\n",
       "      <td>2020</td>\n",
       "      <td>1970.560169</td>\n",
       "      <td>NaN</td>\n",
       "    </tr>\n",
       "    <tr>\n",
       "      <th>1</th>\n",
       "      <td>Afghanistan</td>\n",
       "      <td>2019</td>\n",
       "      <td>2065.036235</td>\n",
       "      <td>NaN</td>\n",
       "    </tr>\n",
       "    <tr>\n",
       "      <th>2</th>\n",
       "      <td>Afghanistan</td>\n",
       "      <td>2018</td>\n",
       "      <td>2033.804389</td>\n",
       "      <td>NaN</td>\n",
       "    </tr>\n",
       "    <tr>\n",
       "      <th>3</th>\n",
       "      <td>Afghanistan</td>\n",
       "      <td>2017</td>\n",
       "      <td>2058.400221</td>\n",
       "      <td>NaN</td>\n",
       "    </tr>\n",
       "    <tr>\n",
       "      <th>4</th>\n",
       "      <td>Afghanistan</td>\n",
       "      <td>2016</td>\n",
       "      <td>2057.067978</td>\n",
       "      <td>NaN</td>\n",
       "    </tr>\n",
       "    <tr>\n",
       "      <th>...</th>\n",
       "      <td>...</td>\n",
       "      <td>...</td>\n",
       "      <td>...</td>\n",
       "      <td>...</td>\n",
       "    </tr>\n",
       "    <tr>\n",
       "      <th>7171</th>\n",
       "      <td>Zimbabwe</td>\n",
       "      <td>1994</td>\n",
       "      <td>2603.927369</td>\n",
       "      <td>NaN</td>\n",
       "    </tr>\n",
       "    <tr>\n",
       "      <th>7172</th>\n",
       "      <td>Zimbabwe</td>\n",
       "      <td>1993</td>\n",
       "      <td>2420.092791</td>\n",
       "      <td>NaN</td>\n",
       "    </tr>\n",
       "    <tr>\n",
       "      <th>7173</th>\n",
       "      <td>Zimbabwe</td>\n",
       "      <td>1992</td>\n",
       "      <td>2437.152908</td>\n",
       "      <td>NaN</td>\n",
       "    </tr>\n",
       "    <tr>\n",
       "      <th>7174</th>\n",
       "      <td>Zimbabwe</td>\n",
       "      <td>1991</td>\n",
       "      <td>2733.696626</td>\n",
       "      <td>NaN</td>\n",
       "    </tr>\n",
       "    <tr>\n",
       "      <th>7175</th>\n",
       "      <td>Zimbabwe</td>\n",
       "      <td>1990</td>\n",
       "      <td>2652.129209</td>\n",
       "      <td>NaN</td>\n",
       "    </tr>\n",
       "  </tbody>\n",
       "</table>\n",
       "<p>7176 rows × 4 columns</p>\n",
       "</div>"
      ],
      "text/plain": [
       "     Country or Area  Year        Value  Value Footnotes\n",
       "0        Afghanistan  2020  1970.560169              NaN\n",
       "1        Afghanistan  2019  2065.036235              NaN\n",
       "2        Afghanistan  2018  2033.804389              NaN\n",
       "3        Afghanistan  2017  2058.400221              NaN\n",
       "4        Afghanistan  2016  2057.067978              NaN\n",
       "...              ...   ...          ...              ...\n",
       "7171        Zimbabwe  1994  2603.927369              NaN\n",
       "7172        Zimbabwe  1993  2420.092791              NaN\n",
       "7173        Zimbabwe  1992  2437.152908              NaN\n",
       "7174        Zimbabwe  1991  2733.696626              NaN\n",
       "7175        Zimbabwe  1990  2652.129209              NaN\n",
       "\n",
       "[7176 rows x 4 columns]"
      ]
     },
     "execution_count": 3,
     "metadata": {},
     "output_type": "execute_result"
    }
   ],
   "source": [
    "pd.read_csv('../data/gdp_percapita.csv.csv')"
   ]
  },
  {
   "cell_type": "code",
   "execution_count": 4,
   "id": "0a128582",
   "metadata": {},
   "outputs": [
    {
     "data": {
      "text/html": [
       "<div>\n",
       "<style scoped>\n",
       "    .dataframe tbody tr th:only-of-type {\n",
       "        vertical-align: middle;\n",
       "    }\n",
       "\n",
       "    .dataframe tbody tr th {\n",
       "        vertical-align: top;\n",
       "    }\n",
       "\n",
       "    .dataframe thead th {\n",
       "        text-align: right;\n",
       "    }\n",
       "</style>\n",
       "<table border=\"1\" class=\"dataframe\">\n",
       "  <thead>\n",
       "    <tr style=\"text-align: right;\">\n",
       "      <th></th>\n",
       "      <th>Country or Area</th>\n",
       "      <th>Year</th>\n",
       "      <th>Value</th>\n",
       "      <th>Value Footnotes</th>\n",
       "    </tr>\n",
       "  </thead>\n",
       "  <tbody>\n",
       "    <tr>\n",
       "      <th>0</th>\n",
       "      <td>Afghanistan</td>\n",
       "      <td>2020</td>\n",
       "      <td>1970.560169</td>\n",
       "      <td>NaN</td>\n",
       "    </tr>\n",
       "    <tr>\n",
       "      <th>1</th>\n",
       "      <td>Afghanistan</td>\n",
       "      <td>2019</td>\n",
       "      <td>2065.036235</td>\n",
       "      <td>NaN</td>\n",
       "    </tr>\n",
       "    <tr>\n",
       "      <th>2</th>\n",
       "      <td>Afghanistan</td>\n",
       "      <td>2018</td>\n",
       "      <td>2033.804389</td>\n",
       "      <td>NaN</td>\n",
       "    </tr>\n",
       "    <tr>\n",
       "      <th>3</th>\n",
       "      <td>Afghanistan</td>\n",
       "      <td>2017</td>\n",
       "      <td>2058.400221</td>\n",
       "      <td>NaN</td>\n",
       "    </tr>\n",
       "    <tr>\n",
       "      <th>4</th>\n",
       "      <td>Afghanistan</td>\n",
       "      <td>2016</td>\n",
       "      <td>2057.067978</td>\n",
       "      <td>NaN</td>\n",
       "    </tr>\n",
       "    <tr>\n",
       "      <th>...</th>\n",
       "      <td>...</td>\n",
       "      <td>...</td>\n",
       "      <td>...</td>\n",
       "      <td>...</td>\n",
       "    </tr>\n",
       "    <tr>\n",
       "      <th>7171</th>\n",
       "      <td>Zimbabwe</td>\n",
       "      <td>1994</td>\n",
       "      <td>2603.927369</td>\n",
       "      <td>NaN</td>\n",
       "    </tr>\n",
       "    <tr>\n",
       "      <th>7172</th>\n",
       "      <td>Zimbabwe</td>\n",
       "      <td>1993</td>\n",
       "      <td>2420.092791</td>\n",
       "      <td>NaN</td>\n",
       "    </tr>\n",
       "    <tr>\n",
       "      <th>7173</th>\n",
       "      <td>Zimbabwe</td>\n",
       "      <td>1992</td>\n",
       "      <td>2437.152908</td>\n",
       "      <td>NaN</td>\n",
       "    </tr>\n",
       "    <tr>\n",
       "      <th>7174</th>\n",
       "      <td>Zimbabwe</td>\n",
       "      <td>1991</td>\n",
       "      <td>2733.696626</td>\n",
       "      <td>NaN</td>\n",
       "    </tr>\n",
       "    <tr>\n",
       "      <th>7175</th>\n",
       "      <td>Zimbabwe</td>\n",
       "      <td>1990</td>\n",
       "      <td>2652.129209</td>\n",
       "      <td>NaN</td>\n",
       "    </tr>\n",
       "  </tbody>\n",
       "</table>\n",
       "<p>7176 rows × 4 columns</p>\n",
       "</div>"
      ],
      "text/plain": [
       "     Country or Area  Year        Value  Value Footnotes\n",
       "0        Afghanistan  2020  1970.560169              NaN\n",
       "1        Afghanistan  2019  2065.036235              NaN\n",
       "2        Afghanistan  2018  2033.804389              NaN\n",
       "3        Afghanistan  2017  2058.400221              NaN\n",
       "4        Afghanistan  2016  2057.067978              NaN\n",
       "...              ...   ...          ...              ...\n",
       "7171        Zimbabwe  1994  2603.927369              NaN\n",
       "7172        Zimbabwe  1993  2420.092791              NaN\n",
       "7173        Zimbabwe  1992  2437.152908              NaN\n",
       "7174        Zimbabwe  1991  2733.696626              NaN\n",
       "7175        Zimbabwe  1990  2652.129209              NaN\n",
       "\n",
       "[7176 rows x 4 columns]"
      ]
     },
     "execution_count": 4,
     "metadata": {},
     "output_type": "execute_result"
    }
   ],
   "source": [
    "gdp_df = pd.read_csv('../data/gdp_percapita.csv.csv')\n",
    "gdp_df"
   ]
  },
  {
   "cell_type": "code",
   "execution_count": 5,
   "id": "3a2b41a4",
   "metadata": {},
   "outputs": [],
   "source": [
    "#Take a look at the first few rows"
   ]
  },
  {
   "cell_type": "code",
   "execution_count": 6,
   "id": "356212df",
   "metadata": {},
   "outputs": [
    {
     "name": "stdout",
     "output_type": "stream",
     "text": [
      "First Few Rows:\n"
     ]
    }
   ],
   "source": [
    "print(\"First Few Rows:\")"
   ]
  },
  {
   "cell_type": "code",
   "execution_count": 7,
   "id": "34fb6ac3",
   "metadata": {},
   "outputs": [
    {
     "name": "stdout",
     "output_type": "stream",
     "text": [
      "  Country or Area  Year        Value  Value Footnotes\n",
      "0     Afghanistan  2020  1970.560169              NaN\n",
      "1     Afghanistan  2019  2065.036235              NaN\n",
      "2     Afghanistan  2018  2033.804389              NaN\n",
      "3     Afghanistan  2017  2058.400221              NaN\n",
      "4     Afghanistan  2016  2057.067978              NaN\n"
     ]
    }
   ],
   "source": [
    "print(gdp_df.head())"
   ]
  },
  {
   "cell_type": "code",
   "execution_count": 8,
   "id": "c3cc7b15",
   "metadata": {},
   "outputs": [],
   "source": [
    "#  Take a look at the last few rows"
   ]
  },
  {
   "cell_type": "code",
   "execution_count": 9,
   "id": "43152366",
   "metadata": {},
   "outputs": [
    {
     "name": "stdout",
     "output_type": "stream",
     "text": [
      "Last Few Rows\n"
     ]
    }
   ],
   "source": [
    "print(\"Last Few Rows\")"
   ]
  },
  {
   "cell_type": "code",
   "execution_count": 10,
   "id": "2d78ebd1",
   "metadata": {},
   "outputs": [
    {
     "name": "stdout",
     "output_type": "stream",
     "text": [
      "     Country or Area  Year        Value  Value Footnotes\n",
      "7171        Zimbabwe  1994  2603.927369              NaN\n",
      "7172        Zimbabwe  1993  2420.092791              NaN\n",
      "7173        Zimbabwe  1992  2437.152908              NaN\n",
      "7174        Zimbabwe  1991  2733.696626              NaN\n",
      "7175        Zimbabwe  1990  2652.129209              NaN\n"
     ]
    }
   ],
   "source": [
    "print(gdp_df.tail())"
   ]
  },
  {
   "cell_type": "code",
   "execution_count": 11,
   "id": "fa69711b",
   "metadata": {},
   "outputs": [],
   "source": [
    "# 5. How many rows and columns are in gdp_df and What are the data types of each column?"
   ]
  },
  {
   "cell_type": "code",
   "execution_count": 12,
   "id": "421ffabe",
   "metadata": {},
   "outputs": [
    {
     "data": {
      "text/plain": [
       "Index(['Country or Area', 'Year', 'Value', 'Value Footnotes'], dtype='object')"
      ]
     },
     "execution_count": 12,
     "metadata": {},
     "output_type": "execute_result"
    }
   ],
   "source": [
    "gdp_df.columns"
   ]
  },
  {
   "cell_type": "code",
   "execution_count": 13,
   "id": "678d8e62",
   "metadata": {},
   "outputs": [
    {
     "data": {
      "text/html": [
       "<div>\n",
       "<style scoped>\n",
       "    .dataframe tbody tr th:only-of-type {\n",
       "        vertical-align: middle;\n",
       "    }\n",
       "\n",
       "    .dataframe tbody tr th {\n",
       "        vertical-align: top;\n",
       "    }\n",
       "\n",
       "    .dataframe thead th {\n",
       "        text-align: right;\n",
       "    }\n",
       "</style>\n",
       "<table border=\"1\" class=\"dataframe\">\n",
       "  <thead>\n",
       "    <tr style=\"text-align: right;\">\n",
       "      <th></th>\n",
       "      <th>Country or Area</th>\n",
       "      <th>Year</th>\n",
       "      <th>Value</th>\n",
       "      <th>Value Footnotes</th>\n",
       "    </tr>\n",
       "  </thead>\n",
       "  <tbody>\n",
       "    <tr>\n",
       "      <th>0</th>\n",
       "      <td>Afghanistan</td>\n",
       "      <td>2020</td>\n",
       "      <td>1970.560169</td>\n",
       "      <td>NaN</td>\n",
       "    </tr>\n",
       "    <tr>\n",
       "      <th>1</th>\n",
       "      <td>Afghanistan</td>\n",
       "      <td>2019</td>\n",
       "      <td>2065.036235</td>\n",
       "      <td>NaN</td>\n",
       "    </tr>\n",
       "    <tr>\n",
       "      <th>2</th>\n",
       "      <td>Afghanistan</td>\n",
       "      <td>2018</td>\n",
       "      <td>2033.804389</td>\n",
       "      <td>NaN</td>\n",
       "    </tr>\n",
       "    <tr>\n",
       "      <th>3</th>\n",
       "      <td>Afghanistan</td>\n",
       "      <td>2017</td>\n",
       "      <td>2058.400221</td>\n",
       "      <td>NaN</td>\n",
       "    </tr>\n",
       "    <tr>\n",
       "      <th>4</th>\n",
       "      <td>Afghanistan</td>\n",
       "      <td>2016</td>\n",
       "      <td>2057.067978</td>\n",
       "      <td>NaN</td>\n",
       "    </tr>\n",
       "    <tr>\n",
       "      <th>...</th>\n",
       "      <td>...</td>\n",
       "      <td>...</td>\n",
       "      <td>...</td>\n",
       "      <td>...</td>\n",
       "    </tr>\n",
       "    <tr>\n",
       "      <th>7171</th>\n",
       "      <td>Zimbabwe</td>\n",
       "      <td>1994</td>\n",
       "      <td>2603.927369</td>\n",
       "      <td>NaN</td>\n",
       "    </tr>\n",
       "    <tr>\n",
       "      <th>7172</th>\n",
       "      <td>Zimbabwe</td>\n",
       "      <td>1993</td>\n",
       "      <td>2420.092791</td>\n",
       "      <td>NaN</td>\n",
       "    </tr>\n",
       "    <tr>\n",
       "      <th>7173</th>\n",
       "      <td>Zimbabwe</td>\n",
       "      <td>1992</td>\n",
       "      <td>2437.152908</td>\n",
       "      <td>NaN</td>\n",
       "    </tr>\n",
       "    <tr>\n",
       "      <th>7174</th>\n",
       "      <td>Zimbabwe</td>\n",
       "      <td>1991</td>\n",
       "      <td>2733.696626</td>\n",
       "      <td>NaN</td>\n",
       "    </tr>\n",
       "    <tr>\n",
       "      <th>7175</th>\n",
       "      <td>Zimbabwe</td>\n",
       "      <td>1990</td>\n",
       "      <td>2652.129209</td>\n",
       "      <td>NaN</td>\n",
       "    </tr>\n",
       "  </tbody>\n",
       "</table>\n",
       "<p>7176 rows × 4 columns</p>\n",
       "</div>"
      ],
      "text/plain": [
       "     Country or Area  Year        Value  Value Footnotes\n",
       "0        Afghanistan  2020  1970.560169              NaN\n",
       "1        Afghanistan  2019  2065.036235              NaN\n",
       "2        Afghanistan  2018  2033.804389              NaN\n",
       "3        Afghanistan  2017  2058.400221              NaN\n",
       "4        Afghanistan  2016  2057.067978              NaN\n",
       "...              ...   ...          ...              ...\n",
       "7171        Zimbabwe  1994  2603.927369              NaN\n",
       "7172        Zimbabwe  1993  2420.092791              NaN\n",
       "7173        Zimbabwe  1992  2437.152908              NaN\n",
       "7174        Zimbabwe  1991  2733.696626              NaN\n",
       "7175        Zimbabwe  1990  2652.129209              NaN\n",
       "\n",
       "[7176 rows x 4 columns]"
      ]
     },
     "execution_count": 13,
     "metadata": {},
     "output_type": "execute_result"
    }
   ],
   "source": [
    "gdp_df"
   ]
  },
  {
   "cell_type": "code",
   "execution_count": 14,
   "id": "2a3407f0",
   "metadata": {},
   "outputs": [],
   "source": [
    "data_types = gdp_df.dtypes"
   ]
  },
  {
   "cell_type": "code",
   "execution_count": 15,
   "id": "2d51878d",
   "metadata": {},
   "outputs": [
    {
     "name": "stdout",
     "output_type": "stream",
     "text": [
      "Country or Area     object\n",
      "Year                 int64\n",
      "Value              float64\n",
      "Value Footnotes    float64\n",
      "dtype: object\n"
     ]
    }
   ],
   "source": [
    "print(data_types)"
   ]
  },
  {
   "cell_type": "code",
   "execution_count": 16,
   "id": "050c7c46",
   "metadata": {},
   "outputs": [],
   "source": [
    "# 6.Drop the Value Footnotes column and rename the remaining three to 'Country', 'Year', and 'GDP_Per_Capita'."
   ]
  },
  {
   "cell_type": "code",
   "execution_count": 17,
   "id": "cb5fd0c7",
   "metadata": {},
   "outputs": [
    {
     "data": {
      "text/html": [
       "<div>\n",
       "<style scoped>\n",
       "    .dataframe tbody tr th:only-of-type {\n",
       "        vertical-align: middle;\n",
       "    }\n",
       "\n",
       "    .dataframe tbody tr th {\n",
       "        vertical-align: top;\n",
       "    }\n",
       "\n",
       "    .dataframe thead th {\n",
       "        text-align: right;\n",
       "    }\n",
       "</style>\n",
       "<table border=\"1\" class=\"dataframe\">\n",
       "  <thead>\n",
       "    <tr style=\"text-align: right;\">\n",
       "      <th></th>\n",
       "      <th>Country or Area</th>\n",
       "      <th>Year</th>\n",
       "      <th>Value</th>\n",
       "    </tr>\n",
       "  </thead>\n",
       "  <tbody>\n",
       "    <tr>\n",
       "      <th>0</th>\n",
       "      <td>Afghanistan</td>\n",
       "      <td>2020</td>\n",
       "      <td>1970.560169</td>\n",
       "    </tr>\n",
       "    <tr>\n",
       "      <th>1</th>\n",
       "      <td>Afghanistan</td>\n",
       "      <td>2019</td>\n",
       "      <td>2065.036235</td>\n",
       "    </tr>\n",
       "    <tr>\n",
       "      <th>2</th>\n",
       "      <td>Afghanistan</td>\n",
       "      <td>2018</td>\n",
       "      <td>2033.804389</td>\n",
       "    </tr>\n",
       "    <tr>\n",
       "      <th>3</th>\n",
       "      <td>Afghanistan</td>\n",
       "      <td>2017</td>\n",
       "      <td>2058.400221</td>\n",
       "    </tr>\n",
       "    <tr>\n",
       "      <th>4</th>\n",
       "      <td>Afghanistan</td>\n",
       "      <td>2016</td>\n",
       "      <td>2057.067978</td>\n",
       "    </tr>\n",
       "    <tr>\n",
       "      <th>...</th>\n",
       "      <td>...</td>\n",
       "      <td>...</td>\n",
       "      <td>...</td>\n",
       "    </tr>\n",
       "    <tr>\n",
       "      <th>7171</th>\n",
       "      <td>Zimbabwe</td>\n",
       "      <td>1994</td>\n",
       "      <td>2603.927369</td>\n",
       "    </tr>\n",
       "    <tr>\n",
       "      <th>7172</th>\n",
       "      <td>Zimbabwe</td>\n",
       "      <td>1993</td>\n",
       "      <td>2420.092791</td>\n",
       "    </tr>\n",
       "    <tr>\n",
       "      <th>7173</th>\n",
       "      <td>Zimbabwe</td>\n",
       "      <td>1992</td>\n",
       "      <td>2437.152908</td>\n",
       "    </tr>\n",
       "    <tr>\n",
       "      <th>7174</th>\n",
       "      <td>Zimbabwe</td>\n",
       "      <td>1991</td>\n",
       "      <td>2733.696626</td>\n",
       "    </tr>\n",
       "    <tr>\n",
       "      <th>7175</th>\n",
       "      <td>Zimbabwe</td>\n",
       "      <td>1990</td>\n",
       "      <td>2652.129209</td>\n",
       "    </tr>\n",
       "  </tbody>\n",
       "</table>\n",
       "<p>7176 rows × 3 columns</p>\n",
       "</div>"
      ],
      "text/plain": [
       "     Country or Area  Year        Value\n",
       "0        Afghanistan  2020  1970.560169\n",
       "1        Afghanistan  2019  2065.036235\n",
       "2        Afghanistan  2018  2033.804389\n",
       "3        Afghanistan  2017  2058.400221\n",
       "4        Afghanistan  2016  2057.067978\n",
       "...              ...   ...          ...\n",
       "7171        Zimbabwe  1994  2603.927369\n",
       "7172        Zimbabwe  1993  2420.092791\n",
       "7173        Zimbabwe  1992  2437.152908\n",
       "7174        Zimbabwe  1991  2733.696626\n",
       "7175        Zimbabwe  1990  2652.129209\n",
       "\n",
       "[7176 rows x 3 columns]"
      ]
     },
     "execution_count": 17,
     "metadata": {},
     "output_type": "execute_result"
    }
   ],
   "source": [
    "gdp_df.drop(columns=[\"Value Footnotes\"])"
   ]
  },
  {
   "cell_type": "code",
   "execution_count": 18,
   "id": "3281ccad",
   "metadata": {},
   "outputs": [
    {
     "data": {
      "text/html": [
       "<div>\n",
       "<style scoped>\n",
       "    .dataframe tbody tr th:only-of-type {\n",
       "        vertical-align: middle;\n",
       "    }\n",
       "\n",
       "    .dataframe tbody tr th {\n",
       "        vertical-align: top;\n",
       "    }\n",
       "\n",
       "    .dataframe thead th {\n",
       "        text-align: right;\n",
       "    }\n",
       "</style>\n",
       "<table border=\"1\" class=\"dataframe\">\n",
       "  <thead>\n",
       "    <tr style=\"text-align: right;\">\n",
       "      <th></th>\n",
       "      <th>Country</th>\n",
       "      <th>Year</th>\n",
       "      <th>GDP_Per_Capita</th>\n",
       "      <th>Value Footnotes</th>\n",
       "    </tr>\n",
       "  </thead>\n",
       "  <tbody>\n",
       "    <tr>\n",
       "      <th>0</th>\n",
       "      <td>Afghanistan</td>\n",
       "      <td>2020</td>\n",
       "      <td>1970.560169</td>\n",
       "      <td>NaN</td>\n",
       "    </tr>\n",
       "    <tr>\n",
       "      <th>1</th>\n",
       "      <td>Afghanistan</td>\n",
       "      <td>2019</td>\n",
       "      <td>2065.036235</td>\n",
       "      <td>NaN</td>\n",
       "    </tr>\n",
       "    <tr>\n",
       "      <th>2</th>\n",
       "      <td>Afghanistan</td>\n",
       "      <td>2018</td>\n",
       "      <td>2033.804389</td>\n",
       "      <td>NaN</td>\n",
       "    </tr>\n",
       "    <tr>\n",
       "      <th>3</th>\n",
       "      <td>Afghanistan</td>\n",
       "      <td>2017</td>\n",
       "      <td>2058.400221</td>\n",
       "      <td>NaN</td>\n",
       "    </tr>\n",
       "    <tr>\n",
       "      <th>4</th>\n",
       "      <td>Afghanistan</td>\n",
       "      <td>2016</td>\n",
       "      <td>2057.067978</td>\n",
       "      <td>NaN</td>\n",
       "    </tr>\n",
       "    <tr>\n",
       "      <th>...</th>\n",
       "      <td>...</td>\n",
       "      <td>...</td>\n",
       "      <td>...</td>\n",
       "      <td>...</td>\n",
       "    </tr>\n",
       "    <tr>\n",
       "      <th>7171</th>\n",
       "      <td>Zimbabwe</td>\n",
       "      <td>1994</td>\n",
       "      <td>2603.927369</td>\n",
       "      <td>NaN</td>\n",
       "    </tr>\n",
       "    <tr>\n",
       "      <th>7172</th>\n",
       "      <td>Zimbabwe</td>\n",
       "      <td>1993</td>\n",
       "      <td>2420.092791</td>\n",
       "      <td>NaN</td>\n",
       "    </tr>\n",
       "    <tr>\n",
       "      <th>7173</th>\n",
       "      <td>Zimbabwe</td>\n",
       "      <td>1992</td>\n",
       "      <td>2437.152908</td>\n",
       "      <td>NaN</td>\n",
       "    </tr>\n",
       "    <tr>\n",
       "      <th>7174</th>\n",
       "      <td>Zimbabwe</td>\n",
       "      <td>1991</td>\n",
       "      <td>2733.696626</td>\n",
       "      <td>NaN</td>\n",
       "    </tr>\n",
       "    <tr>\n",
       "      <th>7175</th>\n",
       "      <td>Zimbabwe</td>\n",
       "      <td>1990</td>\n",
       "      <td>2652.129209</td>\n",
       "      <td>NaN</td>\n",
       "    </tr>\n",
       "  </tbody>\n",
       "</table>\n",
       "<p>7176 rows × 4 columns</p>\n",
       "</div>"
      ],
      "text/plain": [
       "          Country  Year  GDP_Per_Capita  Value Footnotes\n",
       "0     Afghanistan  2020     1970.560169              NaN\n",
       "1     Afghanistan  2019     2065.036235              NaN\n",
       "2     Afghanistan  2018     2033.804389              NaN\n",
       "3     Afghanistan  2017     2058.400221              NaN\n",
       "4     Afghanistan  2016     2057.067978              NaN\n",
       "...           ...   ...             ...              ...\n",
       "7171     Zimbabwe  1994     2603.927369              NaN\n",
       "7172     Zimbabwe  1993     2420.092791              NaN\n",
       "7173     Zimbabwe  1992     2437.152908              NaN\n",
       "7174     Zimbabwe  1991     2733.696626              NaN\n",
       "7175     Zimbabwe  1990     2652.129209              NaN\n",
       "\n",
       "[7176 rows x 4 columns]"
      ]
     },
     "execution_count": 18,
     "metadata": {},
     "output_type": "execute_result"
    }
   ],
   "source": [
    "gdp_df.rename(columns = {\"Country or Area\": \"Country\", \"Year\": \"Year\", \"Value\":\"GDP_Per_Capita\"})"
   ]
  },
  {
   "cell_type": "code",
   "execution_count": 19,
   "id": "1447a93c",
   "metadata": {},
   "outputs": [],
   "source": [
    "#7.How many countries have data for all years? Which countries are missing many years of data? Look at the number of observations per year. What do you notice?"
   ]
  },
  {
   "cell_type": "code",
   "execution_count": 20,
   "id": "af4e5f7f",
   "metadata": {},
   "outputs": [
    {
     "data": {
      "text/html": [
       "<div>\n",
       "<style scoped>\n",
       "    .dataframe tbody tr th:only-of-type {\n",
       "        vertical-align: middle;\n",
       "    }\n",
       "\n",
       "    .dataframe tbody tr th {\n",
       "        vertical-align: top;\n",
       "    }\n",
       "\n",
       "    .dataframe thead th {\n",
       "        text-align: right;\n",
       "    }\n",
       "</style>\n",
       "<table border=\"1\" class=\"dataframe\">\n",
       "  <thead>\n",
       "    <tr style=\"text-align: right;\">\n",
       "      <th></th>\n",
       "      <th>Country or Area</th>\n",
       "      <th>Year</th>\n",
       "      <th>Value</th>\n",
       "      <th>Value Footnotes</th>\n",
       "    </tr>\n",
       "  </thead>\n",
       "  <tbody>\n",
       "    <tr>\n",
       "      <th>0</th>\n",
       "      <td>Afghanistan</td>\n",
       "      <td>2020</td>\n",
       "      <td>1970.560169</td>\n",
       "      <td>NaN</td>\n",
       "    </tr>\n",
       "    <tr>\n",
       "      <th>1</th>\n",
       "      <td>Afghanistan</td>\n",
       "      <td>2019</td>\n",
       "      <td>2065.036235</td>\n",
       "      <td>NaN</td>\n",
       "    </tr>\n",
       "    <tr>\n",
       "      <th>2</th>\n",
       "      <td>Afghanistan</td>\n",
       "      <td>2018</td>\n",
       "      <td>2033.804389</td>\n",
       "      <td>NaN</td>\n",
       "    </tr>\n",
       "    <tr>\n",
       "      <th>3</th>\n",
       "      <td>Afghanistan</td>\n",
       "      <td>2017</td>\n",
       "      <td>2058.400221</td>\n",
       "      <td>NaN</td>\n",
       "    </tr>\n",
       "    <tr>\n",
       "      <th>4</th>\n",
       "      <td>Afghanistan</td>\n",
       "      <td>2016</td>\n",
       "      <td>2057.067978</td>\n",
       "      <td>NaN</td>\n",
       "    </tr>\n",
       "    <tr>\n",
       "      <th>...</th>\n",
       "      <td>...</td>\n",
       "      <td>...</td>\n",
       "      <td>...</td>\n",
       "      <td>...</td>\n",
       "    </tr>\n",
       "    <tr>\n",
       "      <th>7171</th>\n",
       "      <td>Zimbabwe</td>\n",
       "      <td>1994</td>\n",
       "      <td>2603.927369</td>\n",
       "      <td>NaN</td>\n",
       "    </tr>\n",
       "    <tr>\n",
       "      <th>7172</th>\n",
       "      <td>Zimbabwe</td>\n",
       "      <td>1993</td>\n",
       "      <td>2420.092791</td>\n",
       "      <td>NaN</td>\n",
       "    </tr>\n",
       "    <tr>\n",
       "      <th>7173</th>\n",
       "      <td>Zimbabwe</td>\n",
       "      <td>1992</td>\n",
       "      <td>2437.152908</td>\n",
       "      <td>NaN</td>\n",
       "    </tr>\n",
       "    <tr>\n",
       "      <th>7174</th>\n",
       "      <td>Zimbabwe</td>\n",
       "      <td>1991</td>\n",
       "      <td>2733.696626</td>\n",
       "      <td>NaN</td>\n",
       "    </tr>\n",
       "    <tr>\n",
       "      <th>7175</th>\n",
       "      <td>Zimbabwe</td>\n",
       "      <td>1990</td>\n",
       "      <td>2652.129209</td>\n",
       "      <td>NaN</td>\n",
       "    </tr>\n",
       "  </tbody>\n",
       "</table>\n",
       "<p>7176 rows × 4 columns</p>\n",
       "</div>"
      ],
      "text/plain": [
       "     Country or Area  Year        Value  Value Footnotes\n",
       "0        Afghanistan  2020  1970.560169              NaN\n",
       "1        Afghanistan  2019  2065.036235              NaN\n",
       "2        Afghanistan  2018  2033.804389              NaN\n",
       "3        Afghanistan  2017  2058.400221              NaN\n",
       "4        Afghanistan  2016  2057.067978              NaN\n",
       "...              ...   ...          ...              ...\n",
       "7171        Zimbabwe  1994  2603.927369              NaN\n",
       "7172        Zimbabwe  1993  2420.092791              NaN\n",
       "7173        Zimbabwe  1992  2437.152908              NaN\n",
       "7174        Zimbabwe  1991  2733.696626              NaN\n",
       "7175        Zimbabwe  1990  2652.129209              NaN\n",
       "\n",
       "[7176 rows x 4 columns]"
      ]
     },
     "execution_count": 20,
     "metadata": {},
     "output_type": "execute_result"
    }
   ],
   "source": [
    "gdp_df_rename = gdp_df.rename(columns = {\"Country or Area\": \"Country\", \"Year\": \"Year\", \"Value\":\"GDP_Per_Capita\"})\n",
    "gdp_df"
   ]
  },
  {
   "cell_type": "code",
   "execution_count": 21,
   "id": "7f737726",
   "metadata": {},
   "outputs": [
    {
     "name": "stdout",
     "output_type": "stream",
     "text": [
      "Index(['Country', 'Year', 'GDP_Per_Capita', 'Value Footnotes'], dtype='object')\n"
     ]
    }
   ],
   "source": [
    "print(gdp_df_rename.columns)"
   ]
  },
  {
   "cell_type": "code",
   "execution_count": 22,
   "id": "c1639b17",
   "metadata": {},
   "outputs": [],
   "source": [
    "# Unique years for each country"
   ]
  },
  {
   "cell_type": "code",
   "execution_count": 23,
   "id": "ee277614",
   "metadata": {},
   "outputs": [],
   "source": [
    "country_year_counts = gdp_df_rename.groupby('Country')['Year'].nunique()"
   ]
  },
  {
   "cell_type": "code",
   "execution_count": 24,
   "id": "c7730fb5",
   "metadata": {},
   "outputs": [
    {
     "name": "stdout",
     "output_type": "stream",
     "text": [
      "Country\n",
      "Afghanistan                    19\n",
      "Africa Eastern and Southern    31\n",
      "Africa Western and Central     31\n",
      "Albania                        31\n",
      "Algeria                        31\n",
      "                               ..\n",
      "Vietnam                        31\n",
      "West Bank and Gaza             27\n",
      "World                          31\n",
      "Zambia                         31\n",
      "Zimbabwe                       31\n",
      "Name: Year, Length: 242, dtype: int64\n"
     ]
    }
   ],
   "source": [
    "print(country_year_counts)"
   ]
  },
  {
   "cell_type": "code",
   "execution_count": 25,
   "id": "8b7cbbe5",
   "metadata": {},
   "outputs": [],
   "source": [
    "# Country year count"
   ]
  },
  {
   "cell_type": "code",
   "execution_count": 26,
   "id": "5db45871",
   "metadata": {},
   "outputs": [],
   "source": [
    "total_unique_years = gdp_df_rename['Year'].nunique()"
   ]
  },
  {
   "cell_type": "code",
   "execution_count": 27,
   "id": "92f19c37",
   "metadata": {},
   "outputs": [
    {
     "name": "stdout",
     "output_type": "stream",
     "text": [
      "31\n"
     ]
    }
   ],
   "source": [
    "print(total_unique_years)"
   ]
  },
  {
   "cell_type": "code",
   "execution_count": 28,
   "id": "00f82ec4",
   "metadata": {},
   "outputs": [],
   "source": [
    "list_of_countries = country_year_counts[country_year_counts == total_unique_years]"
   ]
  },
  {
   "cell_type": "code",
   "execution_count": 29,
   "id": "d2b64b88",
   "metadata": {},
   "outputs": [
    {
     "name": "stdout",
     "output_type": "stream",
     "text": [
      "Country\n",
      "Africa Eastern and Southern    31\n",
      "Africa Western and Central     31\n",
      "Albania                        31\n",
      "Algeria                        31\n",
      "Angola                         31\n",
      "                               ..\n",
      "Vanuatu                        31\n",
      "Vietnam                        31\n",
      "World                          31\n",
      "Zambia                         31\n",
      "Zimbabwe                       31\n",
      "Name: Year, Length: 205, dtype: int64\n"
     ]
    }
   ],
   "source": [
    "print(list_of_countries)"
   ]
  },
  {
   "cell_type": "code",
   "execution_count": 30,
   "id": "229409bc",
   "metadata": {},
   "outputs": [],
   "source": [
    "# countries count have data for all years"
   ]
  },
  {
   "cell_type": "code",
   "execution_count": 31,
   "id": "5c99dd9e",
   "metadata": {},
   "outputs": [
    {
     "data": {
      "text/plain": [
       "205"
      ]
     },
     "execution_count": 31,
     "metadata": {},
     "output_type": "execute_result"
    }
   ],
   "source": [
    "list_of_countries.count()"
   ]
  },
  {
   "cell_type": "code",
   "execution_count": 32,
   "id": "bdff3bb1",
   "metadata": {},
   "outputs": [],
   "source": [
    "# Missing years of data per country"
   ]
  },
  {
   "cell_type": "code",
   "execution_count": 33,
   "id": "ed3e913d",
   "metadata": {},
   "outputs": [],
   "source": [
    "missingyears_per_country = total_unique_years - country_year_counts"
   ]
  },
  {
   "cell_type": "code",
   "execution_count": 34,
   "id": "a71e8dd8",
   "metadata": {},
   "outputs": [
    {
     "name": "stdout",
     "output_type": "stream",
     "text": [
      "Country\n",
      "Afghanistan                    12\n",
      "Africa Eastern and Southern     0\n",
      "Africa Western and Central      0\n",
      "Albania                         0\n",
      "Algeria                         0\n",
      "                               ..\n",
      "Vietnam                         0\n",
      "West Bank and Gaza              4\n",
      "World                           0\n",
      "Zambia                          0\n",
      "Zimbabwe                        0\n",
      "Name: Year, Length: 242, dtype: int64\n"
     ]
    }
   ],
   "source": [
    "print(missingyears_per_country)"
   ]
  },
  {
   "cell_type": "code",
   "execution_count": 35,
   "id": "4cb5ef50",
   "metadata": {},
   "outputs": [],
   "source": [
    "#countries are missing many years of data"
   ]
  },
  {
   "cell_type": "code",
   "execution_count": 36,
   "id": "a09abfe8",
   "metadata": {},
   "outputs": [
    {
     "data": {
      "text/plain": [
       "242"
      ]
     },
     "execution_count": 36,
     "metadata": {},
     "output_type": "execute_result"
    }
   ],
   "source": [
    "missingyears_per_country.count()"
   ]
  },
  {
   "cell_type": "code",
   "execution_count": 37,
   "id": "d7e642f3",
   "metadata": {},
   "outputs": [],
   "source": [
    "observation_per_year = gdp_df_rename.groupby('Year').size()"
   ]
  },
  {
   "cell_type": "code",
   "execution_count": 38,
   "id": "4cc1c27f",
   "metadata": {},
   "outputs": [
    {
     "name": "stdout",
     "output_type": "stream",
     "text": [
      "Year\n",
      "1990    206\n",
      "1991    207\n",
      "1992    208\n",
      "1993    209\n",
      "1994    211\n",
      "1995    222\n",
      "1996    222\n",
      "1997    226\n",
      "1998    226\n",
      "1999    227\n",
      "2000    233\n",
      "2001    234\n",
      "2002    235\n",
      "2003    235\n",
      "2004    236\n",
      "2005    236\n",
      "2006    237\n",
      "2007    237\n",
      "2008    238\n",
      "2009    239\n",
      "2010    239\n",
      "2011    240\n",
      "2012    240\n",
      "2013    242\n",
      "2014    242\n",
      "2015    242\n",
      "2016    242\n",
      "2017    242\n",
      "2018    242\n",
      "2019    241\n",
      "2020    240\n",
      "dtype: int64\n"
     ]
    }
   ],
   "source": [
    "print(observation_per_year)"
   ]
  },
  {
   "cell_type": "code",
   "execution_count": 39,
   "id": "b2a570ec",
   "metadata": {},
   "outputs": [],
   "source": [
    "# I noticed that there are data gaps, particularly in the early 1990's."
   ]
  },
  {
   "cell_type": "code",
   "execution_count": 40,
   "id": "101b417b",
   "metadata": {},
   "outputs": [],
   "source": [
    "#Q8.show the distribution of GDP per capita for the year 2020."
   ]
  },
  {
   "cell_type": "code",
   "execution_count": 41,
   "id": "132ab62a",
   "metadata": {},
   "outputs": [
    {
     "data": {
      "text/html": [
       "<div>\n",
       "<style scoped>\n",
       "    .dataframe tbody tr th:only-of-type {\n",
       "        vertical-align: middle;\n",
       "    }\n",
       "\n",
       "    .dataframe tbody tr th {\n",
       "        vertical-align: top;\n",
       "    }\n",
       "\n",
       "    .dataframe thead th {\n",
       "        text-align: right;\n",
       "    }\n",
       "</style>\n",
       "<table border=\"1\" class=\"dataframe\">\n",
       "  <thead>\n",
       "    <tr style=\"text-align: right;\">\n",
       "      <th></th>\n",
       "      <th>Country</th>\n",
       "      <th>Year</th>\n",
       "      <th>GDP_Per_Capita</th>\n",
       "      <th>Value Footnotes</th>\n",
       "    </tr>\n",
       "  </thead>\n",
       "  <tbody>\n",
       "    <tr>\n",
       "      <th>0</th>\n",
       "      <td>Afghanistan</td>\n",
       "      <td>2020</td>\n",
       "      <td>1970.560169</td>\n",
       "      <td>NaN</td>\n",
       "    </tr>\n",
       "    <tr>\n",
       "      <th>1</th>\n",
       "      <td>Afghanistan</td>\n",
       "      <td>2019</td>\n",
       "      <td>2065.036235</td>\n",
       "      <td>NaN</td>\n",
       "    </tr>\n",
       "    <tr>\n",
       "      <th>2</th>\n",
       "      <td>Afghanistan</td>\n",
       "      <td>2018</td>\n",
       "      <td>2033.804389</td>\n",
       "      <td>NaN</td>\n",
       "    </tr>\n",
       "    <tr>\n",
       "      <th>3</th>\n",
       "      <td>Afghanistan</td>\n",
       "      <td>2017</td>\n",
       "      <td>2058.400221</td>\n",
       "      <td>NaN</td>\n",
       "    </tr>\n",
       "    <tr>\n",
       "      <th>4</th>\n",
       "      <td>Afghanistan</td>\n",
       "      <td>2016</td>\n",
       "      <td>2057.067978</td>\n",
       "      <td>NaN</td>\n",
       "    </tr>\n",
       "    <tr>\n",
       "      <th>...</th>\n",
       "      <td>...</td>\n",
       "      <td>...</td>\n",
       "      <td>...</td>\n",
       "      <td>...</td>\n",
       "    </tr>\n",
       "    <tr>\n",
       "      <th>7171</th>\n",
       "      <td>Zimbabwe</td>\n",
       "      <td>1994</td>\n",
       "      <td>2603.927369</td>\n",
       "      <td>NaN</td>\n",
       "    </tr>\n",
       "    <tr>\n",
       "      <th>7172</th>\n",
       "      <td>Zimbabwe</td>\n",
       "      <td>1993</td>\n",
       "      <td>2420.092791</td>\n",
       "      <td>NaN</td>\n",
       "    </tr>\n",
       "    <tr>\n",
       "      <th>7173</th>\n",
       "      <td>Zimbabwe</td>\n",
       "      <td>1992</td>\n",
       "      <td>2437.152908</td>\n",
       "      <td>NaN</td>\n",
       "    </tr>\n",
       "    <tr>\n",
       "      <th>7174</th>\n",
       "      <td>Zimbabwe</td>\n",
       "      <td>1991</td>\n",
       "      <td>2733.696626</td>\n",
       "      <td>NaN</td>\n",
       "    </tr>\n",
       "    <tr>\n",
       "      <th>7175</th>\n",
       "      <td>Zimbabwe</td>\n",
       "      <td>1990</td>\n",
       "      <td>2652.129209</td>\n",
       "      <td>NaN</td>\n",
       "    </tr>\n",
       "  </tbody>\n",
       "</table>\n",
       "<p>7176 rows × 4 columns</p>\n",
       "</div>"
      ],
      "text/plain": [
       "          Country  Year  GDP_Per_Capita  Value Footnotes\n",
       "0     Afghanistan  2020     1970.560169              NaN\n",
       "1     Afghanistan  2019     2065.036235              NaN\n",
       "2     Afghanistan  2018     2033.804389              NaN\n",
       "3     Afghanistan  2017     2058.400221              NaN\n",
       "4     Afghanistan  2016     2057.067978              NaN\n",
       "...           ...   ...             ...              ...\n",
       "7171     Zimbabwe  1994     2603.927369              NaN\n",
       "7172     Zimbabwe  1993     2420.092791              NaN\n",
       "7173     Zimbabwe  1992     2437.152908              NaN\n",
       "7174     Zimbabwe  1991     2733.696626              NaN\n",
       "7175     Zimbabwe  1990     2652.129209              NaN\n",
       "\n",
       "[7176 rows x 4 columns]"
      ]
     },
     "execution_count": 41,
     "metadata": {},
     "output_type": "execute_result"
    }
   ],
   "source": [
    "gdp_df = gdp_df.rename(columns = {\"Country or Area\": \"Country\", \"Year\": \"Year\", \"Value\":\"GDP_Per_Capita\"})\n",
    "gdp_df"
   ]
  },
  {
   "cell_type": "code",
   "execution_count": 42,
   "id": "d2780151",
   "metadata": {},
   "outputs": [],
   "source": [
    "gdp_df = gdp_df.drop(columns=[\"Value Footnotes\"])"
   ]
  },
  {
   "cell_type": "code",
   "execution_count": 43,
   "id": "be37eede",
   "metadata": {},
   "outputs": [
    {
     "name": "stdout",
     "output_type": "stream",
     "text": [
      "          Country  Year  GDP_Per_Capita\n",
      "0     Afghanistan  2020     1970.560169\n",
      "1     Afghanistan  2019     2065.036235\n",
      "2     Afghanistan  2018     2033.804389\n",
      "3     Afghanistan  2017     2058.400221\n",
      "4     Afghanistan  2016     2057.067978\n",
      "...           ...   ...             ...\n",
      "7171     Zimbabwe  1994     2603.927369\n",
      "7172     Zimbabwe  1993     2420.092791\n",
      "7173     Zimbabwe  1992     2437.152908\n",
      "7174     Zimbabwe  1991     2733.696626\n",
      "7175     Zimbabwe  1990     2652.129209\n",
      "\n",
      "[7176 rows x 3 columns]\n"
     ]
    }
   ],
   "source": [
    "print(gdp_df)"
   ]
  },
  {
   "cell_type": "code",
   "execution_count": 44,
   "id": "d5c58e1d",
   "metadata": {},
   "outputs": [],
   "source": [
    "gdp_df_2020 = gdp_df.query('Year == 2020')"
   ]
  },
  {
   "cell_type": "code",
   "execution_count": 45,
   "id": "f6a175b0",
   "metadata": {},
   "outputs": [
    {
     "name": "stdout",
     "output_type": "stream",
     "text": [
      "                          Country  Year  GDP_Per_Capita\n",
      "0                     Afghanistan  2020     1970.560169\n",
      "19    Africa Eastern and Southern  2020     3491.978104\n",
      "50     Africa Western and Central  2020     4021.293919\n",
      "81                        Albania  2020    13253.733337\n",
      "112                       Algeria  2020    10735.382539\n",
      "...                           ...   ...             ...\n",
      "7025                      Vietnam  2020    10338.270543\n",
      "7056           West Bank and Gaza  2020     5402.538773\n",
      "7083                        World  2020    16269.969854\n",
      "7114                       Zambia  2020     3277.816510\n",
      "7145                     Zimbabwe  2020     2134.555461\n",
      "\n",
      "[240 rows x 3 columns]\n"
     ]
    }
   ],
   "source": [
    "print(gdp_df_2020)"
   ]
  },
  {
   "cell_type": "code",
   "execution_count": 46,
   "id": "cd05b2bb",
   "metadata": {},
   "outputs": [],
   "source": [
    "#create a Histogram"
   ]
  },
  {
   "cell_type": "code",
   "execution_count": 47,
   "id": "0a9c1af0",
   "metadata": {},
   "outputs": [
    {
     "data": {
      "image/png": "[encoded data removed]",
      "text/plain": [
       "<Figure size 640x480 with 1 Axes>"
      ]
     },
     "metadata": {},
     "output_type": "display_data"
    }
   ],
   "source": [
    "gdp_df_2020.hist(\"GDP_Per_Capita\");"
   ]
  },
  {
   "cell_type": "code",
   "execution_count": 48,
   "id": "795763e7",
   "metadata": {},
   "outputs": [],
   "source": [
    "#create a Density plot"
   ]
  },
  {
   "cell_type": "code",
   "execution_count": 50,
   "id": "6a229d88",
   "metadata": {},
   "outputs": [
    {
     "data": {
      "image/png": "[encoded data removed]",
      "text/plain": [
       "<Figure size 640x480 with 1 Axes>"
      ]
     },
     "metadata": {},
     "output_type": "display_data"
    }
   ],
   "source": [
    "sns.kdeplot(x=\"GDP_Per_Capita\", data = gdp_df_2020);"
   ]
  },
  {
   "cell_type": "code",
   "execution_count": null,
   "id": "7b04c72d",
   "metadata": {},
   "outputs": [],
   "source": [
    "# create a boxplot"
   ]
  },
  {
   "cell_type": "code",
   "execution_count": null,
   "id": "e15aa756",
   "metadata": {},
   "outputs": [],
   "source": [
    "gdp_df_2020.boxplot(\"GDP_Per_Capita\");"
   ]
  },
  {
   "cell_type": "code",
   "execution_count": null,
   "id": "40bb9fd4",
   "metadata": {},
   "outputs": [],
   "source": [
    "#Creat a violin plot"
   ]
  },
  {
   "cell_type": "code",
   "execution_count": null,
   "id": "3b741d39",
   "metadata": {},
   "outputs": [],
   "source": [
    "sns.violinplot(x=\"GDP_Per_Capita\", data = gdp_df_2020);"
   ]
  },
  {
   "cell_type": "code",
   "execution_count": null,
   "id": "c7f5a01b",
   "metadata": {},
   "outputs": [],
   "source": [
    "# I noticed that:\n",
    "#Histogram and Density Plots are for understanding the distribution's shape and identifying peaks  in the data. \n",
    "#Box Plot is comparing groups within the data.\n",
    "#Violin Plot is providing a view of central tendencies and distribution shape."
   ]
  },
  {
   "cell_type": "code",
   "execution_count": null,
   "id": "e71eafa0",
   "metadata": {},
   "outputs": [],
   "source": [
    "#9. What was the median GDP per capita value in 2020?"
   ]
  },
  {
   "cell_type": "code",
   "execution_count": null,
   "id": "9ab42d60",
   "metadata": {},
   "outputs": [],
   "source": [
    "#gdp_df_2020.GDP_Per_Capita.median()----can also "
   ]
  },
  {
   "cell_type": "code",
   "execution_count": 51,
   "id": "39879699",
   "metadata": {},
   "outputs": [],
   "source": [
    "gdp_df_2020 = gdp_df_2020['GDP_Per_Capita'].median()"
   ]
  },
  {
   "cell_type": "code",
   "execution_count": 52,
   "id": "9daa4040",
   "metadata": {},
   "outputs": [
    {
     "name": "stdout",
     "output_type": "stream",
     "text": [
      "12908.9374056206\n"
     ]
    }
   ],
   "source": [
    "print(gdp_df_2020)"
   ]
  },
  {
   "cell_type": "code",
   "execution_count": null,
   "id": "0bd903ac",
   "metadata": {},
   "outputs": [],
   "source": [
    "#10. create some visualizations to compare GDP per capita values for the years 1990, 2000, 2010, and 2020."
   ]
  },
  {
   "cell_type": "code",
   "execution_count": 54,
   "id": "dceba322",
   "metadata": {},
   "outputs": [
    {
     "data": {
      "text/html": [
       "<div>\n",
       "<style scoped>\n",
       "    .dataframe tbody tr th:only-of-type {\n",
       "        vertical-align: middle;\n",
       "    }\n",
       "\n",
       "    .dataframe tbody tr th {\n",
       "        vertical-align: top;\n",
       "    }\n",
       "\n",
       "    .dataframe thead th {\n",
       "        text-align: right;\n",
       "    }\n",
       "</style>\n",
       "<table border=\"1\" class=\"dataframe\">\n",
       "  <thead>\n",
       "    <tr style=\"text-align: right;\">\n",
       "      <th></th>\n",
       "      <th>Country</th>\n",
       "      <th>Year</th>\n",
       "      <th>GDP_Per_Capita</th>\n",
       "    </tr>\n",
       "  </thead>\n",
       "  <tbody>\n",
       "    <tr>\n",
       "      <th>0</th>\n",
       "      <td>Afghanistan</td>\n",
       "      <td>2020</td>\n",
       "      <td>1970.560169</td>\n",
       "    </tr>\n",
       "    <tr>\n",
       "      <th>1</th>\n",
       "      <td>Afghanistan</td>\n",
       "      <td>2019</td>\n",
       "      <td>2065.036235</td>\n",
       "    </tr>\n",
       "    <tr>\n",
       "      <th>2</th>\n",
       "      <td>Afghanistan</td>\n",
       "      <td>2018</td>\n",
       "      <td>2033.804389</td>\n",
       "    </tr>\n",
       "    <tr>\n",
       "      <th>3</th>\n",
       "      <td>Afghanistan</td>\n",
       "      <td>2017</td>\n",
       "      <td>2058.400221</td>\n",
       "    </tr>\n",
       "    <tr>\n",
       "      <th>4</th>\n",
       "      <td>Afghanistan</td>\n",
       "      <td>2016</td>\n",
       "      <td>2057.067978</td>\n",
       "    </tr>\n",
       "    <tr>\n",
       "      <th>...</th>\n",
       "      <td>...</td>\n",
       "      <td>...</td>\n",
       "      <td>...</td>\n",
       "    </tr>\n",
       "    <tr>\n",
       "      <th>7171</th>\n",
       "      <td>Zimbabwe</td>\n",
       "      <td>1994</td>\n",
       "      <td>2603.927369</td>\n",
       "    </tr>\n",
       "    <tr>\n",
       "      <th>7172</th>\n",
       "      <td>Zimbabwe</td>\n",
       "      <td>1993</td>\n",
       "      <td>2420.092791</td>\n",
       "    </tr>\n",
       "    <tr>\n",
       "      <th>7173</th>\n",
       "      <td>Zimbabwe</td>\n",
       "      <td>1992</td>\n",
       "      <td>2437.152908</td>\n",
       "    </tr>\n",
       "    <tr>\n",
       "      <th>7174</th>\n",
       "      <td>Zimbabwe</td>\n",
       "      <td>1991</td>\n",
       "      <td>2733.696626</td>\n",
       "    </tr>\n",
       "    <tr>\n",
       "      <th>7175</th>\n",
       "      <td>Zimbabwe</td>\n",
       "      <td>1990</td>\n",
       "      <td>2652.129209</td>\n",
       "    </tr>\n",
       "  </tbody>\n",
       "</table>\n",
       "<p>7176 rows × 3 columns</p>\n",
       "</div>"
      ],
      "text/plain": [
       "          Country  Year  GDP_Per_Capita\n",
       "0     Afghanistan  2020     1970.560169\n",
       "1     Afghanistan  2019     2065.036235\n",
       "2     Afghanistan  2018     2033.804389\n",
       "3     Afghanistan  2017     2058.400221\n",
       "4     Afghanistan  2016     2057.067978\n",
       "...           ...   ...             ...\n",
       "7171     Zimbabwe  1994     2603.927369\n",
       "7172     Zimbabwe  1993     2420.092791\n",
       "7173     Zimbabwe  1992     2437.152908\n",
       "7174     Zimbabwe  1991     2733.696626\n",
       "7175     Zimbabwe  1990     2652.129209\n",
       "\n",
       "[7176 rows x 3 columns]"
      ]
     },
     "execution_count": 54,
     "metadata": {},
     "output_type": "execute_result"
    }
   ],
   "source": [
    "gdp_df = gdp_df.rename(columns = {\"Country or Area\": \"Country\", \"Year\": \"Year\", \"Value\":\"GDP_Per_Capita\"})\n",
    "gdp_df"
   ]
  },
  {
   "cell_type": "code",
   "execution_count": 55,
   "id": "b3bcb6ff",
   "metadata": {},
   "outputs": [
    {
     "data": {
      "text/html": [
       "<div>\n",
       "<style scoped>\n",
       "    .dataframe tbody tr th:only-of-type {\n",
       "        vertical-align: middle;\n",
       "    }\n",
       "\n",
       "    .dataframe tbody tr th {\n",
       "        vertical-align: top;\n",
       "    }\n",
       "\n",
       "    .dataframe thead th {\n",
       "        text-align: right;\n",
       "    }\n",
       "</style>\n",
       "<table border=\"1\" class=\"dataframe\">\n",
       "  <thead>\n",
       "    <tr style=\"text-align: right;\">\n",
       "      <th></th>\n",
       "      <th>Year</th>\n",
       "      <th>GDP_Per_Capita</th>\n",
       "    </tr>\n",
       "  </thead>\n",
       "  <tbody>\n",
       "    <tr>\n",
       "      <th>0</th>\n",
       "      <td>2020</td>\n",
       "      <td>1970.560169</td>\n",
       "    </tr>\n",
       "    <tr>\n",
       "      <th>1</th>\n",
       "      <td>2019</td>\n",
       "      <td>2065.036235</td>\n",
       "    </tr>\n",
       "    <tr>\n",
       "      <th>2</th>\n",
       "      <td>2018</td>\n",
       "      <td>2033.804389</td>\n",
       "    </tr>\n",
       "    <tr>\n",
       "      <th>3</th>\n",
       "      <td>2017</td>\n",
       "      <td>2058.400221</td>\n",
       "    </tr>\n",
       "    <tr>\n",
       "      <th>4</th>\n",
       "      <td>2016</td>\n",
       "      <td>2057.067978</td>\n",
       "    </tr>\n",
       "    <tr>\n",
       "      <th>...</th>\n",
       "      <td>...</td>\n",
       "      <td>...</td>\n",
       "    </tr>\n",
       "    <tr>\n",
       "      <th>7171</th>\n",
       "      <td>1994</td>\n",
       "      <td>2603.927369</td>\n",
       "    </tr>\n",
       "    <tr>\n",
       "      <th>7172</th>\n",
       "      <td>1993</td>\n",
       "      <td>2420.092791</td>\n",
       "    </tr>\n",
       "    <tr>\n",
       "      <th>7173</th>\n",
       "      <td>1992</td>\n",
       "      <td>2437.152908</td>\n",
       "    </tr>\n",
       "    <tr>\n",
       "      <th>7174</th>\n",
       "      <td>1991</td>\n",
       "      <td>2733.696626</td>\n",
       "    </tr>\n",
       "    <tr>\n",
       "      <th>7175</th>\n",
       "      <td>1990</td>\n",
       "      <td>2652.129209</td>\n",
       "    </tr>\n",
       "  </tbody>\n",
       "</table>\n",
       "<p>7176 rows × 2 columns</p>\n",
       "</div>"
      ],
      "text/plain": [
       "      Year  GDP_Per_Capita\n",
       "0     2020     1970.560169\n",
       "1     2019     2065.036235\n",
       "2     2018     2033.804389\n",
       "3     2017     2058.400221\n",
       "4     2016     2057.067978\n",
       "...    ...             ...\n",
       "7171  1994     2603.927369\n",
       "7172  1993     2420.092791\n",
       "7173  1992     2437.152908\n",
       "7174  1991     2733.696626\n",
       "7175  1990     2652.129209\n",
       "\n",
       "[7176 rows x 2 columns]"
      ]
     },
     "execution_count": 55,
     "metadata": {},
     "output_type": "execute_result"
    }
   ],
   "source": [
    "gdp_df.drop(columns=[\"Country\"])"
   ]
  },
  {
   "cell_type": "code",
   "execution_count": 56,
   "id": "a98343fe",
   "metadata": {},
   "outputs": [
    {
     "data": {
      "text/html": [
       "<div>\n",
       "<style scoped>\n",
       "    .dataframe tbody tr th:only-of-type {\n",
       "        vertical-align: middle;\n",
       "    }\n",
       "\n",
       "    .dataframe tbody tr th {\n",
       "        vertical-align: top;\n",
       "    }\n",
       "\n",
       "    .dataframe thead th {\n",
       "        text-align: right;\n",
       "    }\n",
       "</style>\n",
       "<table border=\"1\" class=\"dataframe\">\n",
       "  <thead>\n",
       "    <tr style=\"text-align: right;\">\n",
       "      <th></th>\n",
       "      <th>Year</th>\n",
       "      <th>GDP_Per_Capita</th>\n",
       "    </tr>\n",
       "  </thead>\n",
       "  <tbody>\n",
       "    <tr>\n",
       "      <th>0</th>\n",
       "      <td>2020</td>\n",
       "      <td>1970.560169</td>\n",
       "    </tr>\n",
       "    <tr>\n",
       "      <th>1</th>\n",
       "      <td>2019</td>\n",
       "      <td>2065.036235</td>\n",
       "    </tr>\n",
       "    <tr>\n",
       "      <th>2</th>\n",
       "      <td>2018</td>\n",
       "      <td>2033.804389</td>\n",
       "    </tr>\n",
       "    <tr>\n",
       "      <th>3</th>\n",
       "      <td>2017</td>\n",
       "      <td>2058.400221</td>\n",
       "    </tr>\n",
       "    <tr>\n",
       "      <th>4</th>\n",
       "      <td>2016</td>\n",
       "      <td>2057.067978</td>\n",
       "    </tr>\n",
       "    <tr>\n",
       "      <th>...</th>\n",
       "      <td>...</td>\n",
       "      <td>...</td>\n",
       "    </tr>\n",
       "    <tr>\n",
       "      <th>7171</th>\n",
       "      <td>1994</td>\n",
       "      <td>2603.927369</td>\n",
       "    </tr>\n",
       "    <tr>\n",
       "      <th>7172</th>\n",
       "      <td>1993</td>\n",
       "      <td>2420.092791</td>\n",
       "    </tr>\n",
       "    <tr>\n",
       "      <th>7173</th>\n",
       "      <td>1992</td>\n",
       "      <td>2437.152908</td>\n",
       "    </tr>\n",
       "    <tr>\n",
       "      <th>7174</th>\n",
       "      <td>1991</td>\n",
       "      <td>2733.696626</td>\n",
       "    </tr>\n",
       "    <tr>\n",
       "      <th>7175</th>\n",
       "      <td>1990</td>\n",
       "      <td>2652.129209</td>\n",
       "    </tr>\n",
       "  </tbody>\n",
       "</table>\n",
       "<p>7176 rows × 2 columns</p>\n",
       "</div>"
      ],
      "text/plain": [
       "      Year  GDP_Per_Capita\n",
       "0     2020     1970.560169\n",
       "1     2019     2065.036235\n",
       "2     2018     2033.804389\n",
       "3     2017     2058.400221\n",
       "4     2016     2057.067978\n",
       "...    ...             ...\n",
       "7171  1994     2603.927369\n",
       "7172  1993     2420.092791\n",
       "7173  1992     2437.152908\n",
       "7174  1991     2733.696626\n",
       "7175  1990     2652.129209\n",
       "\n",
       "[7176 rows x 2 columns]"
      ]
     },
     "execution_count": 56,
     "metadata": {},
     "output_type": "execute_result"
    }
   ],
   "source": [
    "gdp_dropingcountry=gdp_df.drop(columns=[\"Country\"])\n",
    "gdp_dropingcountry"
   ]
  },
  {
   "cell_type": "code",
   "execution_count": 57,
   "id": "bc2d284b",
   "metadata": {},
   "outputs": [],
   "source": [
    "selected_years = [1990, 2000, 2010, 2020]"
   ]
  },
  {
   "cell_type": "code",
   "execution_count": 59,
   "id": "83af3fb8",
   "metadata": {},
   "outputs": [],
   "source": [
    "gdp_decades = gdp_df.loc[gdp_df['Year'].isin(selected_years),['Year','GDP_Per_Capita']]"
   ]
  },
  {
   "cell_type": "code",
   "execution_count": 60,
   "id": "292a4d4d",
   "metadata": {},
   "outputs": [
    {
     "name": "stdout",
     "output_type": "stream",
     "text": [
      "      Year  GDP_Per_Capita\n",
      "0     2020     1970.560169\n",
      "10    2010     1957.029070\n",
      "19    2020     3491.978104\n",
      "29    2010     3545.205203\n",
      "39    2000     2915.472987\n",
      "...    ...             ...\n",
      "7144  1990     2190.181724\n",
      "7145  2020     2134.555461\n",
      "7155  2010     1813.531764\n",
      "7165  2000     2771.060576\n",
      "7175  1990     2652.129209\n",
      "\n",
      "[918 rows x 2 columns]\n"
     ]
    }
   ],
   "source": [
    "print(gdp_decades)"
   ]
  },
  {
   "cell_type": "code",
   "execution_count": 61,
   "id": "9f13ff6d",
   "metadata": {},
   "outputs": [],
   "source": [
    "sns.set(style=\"darkgrid\")"
   ]
  },
  {
   "cell_type": "code",
   "execution_count": 62,
   "id": "7e967ce7",
   "metadata": {},
   "outputs": [
    {
     "data": {
      "text/plain": [
       "<Axes: xlabel='Year', ylabel='GDP_Per_Capita'>"
      ]
     },
     "execution_count": 62,
     "metadata": {},
     "output_type": "execute_result"
    },
    {
     "data": {
      "image/png": "[encoded data removed]",
      "text/plain": [
       "<Figure size 640x480 with 1 Axes>"
      ]
     },
     "metadata": {},
     "output_type": "display_data"
    }
   ],
   "source": [
    "sns.boxplot (x= 'Year', y='GDP_Per_Capita', data = gdp_decades)"
   ]
  },
  {
   "cell_type": "code",
   "execution_count": 63,
   "id": "88f29ee6",
   "metadata": {},
   "outputs": [
    {
     "data": {
      "text/plain": [
       "<Axes: xlabel='Year', ylabel='GDP_Per_Capita'>"
      ]
     },
     "execution_count": 63,
     "metadata": {},
     "output_type": "execute_result"
    },
    {
     "data": {
      "image/png": "[encoded data removed]",
      "text/plain": [
       "<Figure size 640x480 with 1 Axes>"
      ]
     },
     "metadata": {},
     "output_type": "display_data"
    }
   ],
   "source": [
    "sns.barplot(x= 'Year', y='GDP_Per_Capita', data = gdp_decades)"
   ]
  },
  {
   "cell_type": "code",
   "execution_count": 64,
   "id": "9f3b466b",
   "metadata": {},
   "outputs": [
    {
     "data": {
      "text/plain": [
       "<Axes: xlabel='Year', ylabel='GDP_Per_Capita'>"
      ]
     },
     "execution_count": 64,
     "metadata": {},
     "output_type": "execute_result"
    },
    {
     "data": {
      "image/png": "[encoded data removed]",
      "text/plain": [
       "<Figure size 640x480 with 1 Axes>"
      ]
     },
     "metadata": {},
     "output_type": "display_data"
    }
   ],
   "source": [
    "sns.scatterplot(x= 'Year', y='GDP_Per_Capita', data = gdp_decades)"
   ]
  },
  {
   "cell_type": "code",
   "execution_count": 66,
   "id": "8e5e7e31",
   "metadata": {},
   "outputs": [
    {
     "data": {
      "text/plain": [
       "<Axes: xlabel='Year', ylabel='GDP_Per_Capita'>"
      ]
     },
     "execution_count": 66,
     "metadata": {},
     "output_type": "execute_result"
    },
    {
     "data": {
      "image/png": "[encoded data removed]",
      "text/plain": [
       "<Figure size 640x480 with 1 Axes>"
      ]
     },
     "metadata": {},
     "output_type": "display_data"
    }
   ],
   "source": [
    "sns.regplot(x= 'Year', y='GDP_Per_Capita', data = gdp_decades,x_jitter=True)"
   ]
  },
  {
   "cell_type": "code",
   "execution_count": null,
   "id": "c64aa416",
   "metadata": {},
   "outputs": [],
   "source": [
    "# I observed that comparing the GDP per capita between the specified years (1990, 2000, 2010, and 2020), there was a higher value in 2020 and lower value in 1990.\n",
    "\n",
    "# Strength is plots are effective for a visual representation of the relationship between year and GDP per capita.\n",
    "# Weakness is these plots does not provide summary/details"
   ]
  },
  {
   "cell_type": "code",
   "execution_count": null,
   "id": "79e1a197",
   "metadata": {},
   "outputs": [],
   "source": [
    "# 11. Which country was the first to have a GDP per capita greater than $100,000?"
   ]
  },
  {
   "cell_type": "code",
   "execution_count": 67,
   "id": "f693dee0",
   "metadata": {},
   "outputs": [
    {
     "data": {
      "text/html": [
       "<div>\n",
       "<style scoped>\n",
       "    .dataframe tbody tr th:only-of-type {\n",
       "        vertical-align: middle;\n",
       "    }\n",
       "\n",
       "    .dataframe tbody tr th {\n",
       "        vertical-align: top;\n",
       "    }\n",
       "\n",
       "    .dataframe thead th {\n",
       "        text-align: right;\n",
       "    }\n",
       "</style>\n",
       "<table border=\"1\" class=\"dataframe\">\n",
       "  <thead>\n",
       "    <tr style=\"text-align: right;\">\n",
       "      <th></th>\n",
       "      <th>Country</th>\n",
       "      <th>Year</th>\n",
       "      <th>GDP_Per_Capita</th>\n",
       "    </tr>\n",
       "  </thead>\n",
       "  <tbody>\n",
       "    <tr>\n",
       "      <th>0</th>\n",
       "      <td>Afghanistan</td>\n",
       "      <td>2020</td>\n",
       "      <td>1970.560169</td>\n",
       "    </tr>\n",
       "    <tr>\n",
       "      <th>1</th>\n",
       "      <td>Afghanistan</td>\n",
       "      <td>2019</td>\n",
       "      <td>2065.036235</td>\n",
       "    </tr>\n",
       "    <tr>\n",
       "      <th>2</th>\n",
       "      <td>Afghanistan</td>\n",
       "      <td>2018</td>\n",
       "      <td>2033.804389</td>\n",
       "    </tr>\n",
       "    <tr>\n",
       "      <th>3</th>\n",
       "      <td>Afghanistan</td>\n",
       "      <td>2017</td>\n",
       "      <td>2058.400221</td>\n",
       "    </tr>\n",
       "    <tr>\n",
       "      <th>4</th>\n",
       "      <td>Afghanistan</td>\n",
       "      <td>2016</td>\n",
       "      <td>2057.067978</td>\n",
       "    </tr>\n",
       "    <tr>\n",
       "      <th>...</th>\n",
       "      <td>...</td>\n",
       "      <td>...</td>\n",
       "      <td>...</td>\n",
       "    </tr>\n",
       "    <tr>\n",
       "      <th>7171</th>\n",
       "      <td>Zimbabwe</td>\n",
       "      <td>1994</td>\n",
       "      <td>2603.927369</td>\n",
       "    </tr>\n",
       "    <tr>\n",
       "      <th>7172</th>\n",
       "      <td>Zimbabwe</td>\n",
       "      <td>1993</td>\n",
       "      <td>2420.092791</td>\n",
       "    </tr>\n",
       "    <tr>\n",
       "      <th>7173</th>\n",
       "      <td>Zimbabwe</td>\n",
       "      <td>1992</td>\n",
       "      <td>2437.152908</td>\n",
       "    </tr>\n",
       "    <tr>\n",
       "      <th>7174</th>\n",
       "      <td>Zimbabwe</td>\n",
       "      <td>1991</td>\n",
       "      <td>2733.696626</td>\n",
       "    </tr>\n",
       "    <tr>\n",
       "      <th>7175</th>\n",
       "      <td>Zimbabwe</td>\n",
       "      <td>1990</td>\n",
       "      <td>2652.129209</td>\n",
       "    </tr>\n",
       "  </tbody>\n",
       "</table>\n",
       "<p>7176 rows × 3 columns</p>\n",
       "</div>"
      ],
      "text/plain": [
       "          Country  Year  GDP_Per_Capita\n",
       "0     Afghanistan  2020     1970.560169\n",
       "1     Afghanistan  2019     2065.036235\n",
       "2     Afghanistan  2018     2033.804389\n",
       "3     Afghanistan  2017     2058.400221\n",
       "4     Afghanistan  2016     2057.067978\n",
       "...           ...   ...             ...\n",
       "7171     Zimbabwe  1994     2603.927369\n",
       "7172     Zimbabwe  1993     2420.092791\n",
       "7173     Zimbabwe  1992     2437.152908\n",
       "7174     Zimbabwe  1991     2733.696626\n",
       "7175     Zimbabwe  1990     2652.129209\n",
       "\n",
       "[7176 rows x 3 columns]"
      ]
     },
     "execution_count": 67,
     "metadata": {},
     "output_type": "execute_result"
    }
   ],
   "source": [
    "gdp_df"
   ]
  },
  {
   "cell_type": "code",
   "execution_count": 72,
   "id": "0017d26c",
   "metadata": {},
   "outputs": [
    {
     "data": {
      "text/html": [
       "<div>\n",
       "<style scoped>\n",
       "    .dataframe tbody tr th:only-of-type {\n",
       "        vertical-align: middle;\n",
       "    }\n",
       "\n",
       "    .dataframe tbody tr th {\n",
       "        vertical-align: top;\n",
       "    }\n",
       "\n",
       "    .dataframe thead th {\n",
       "        text-align: right;\n",
       "    }\n",
       "</style>\n",
       "<table border=\"1\" class=\"dataframe\">\n",
       "  <thead>\n",
       "    <tr style=\"text-align: right;\">\n",
       "      <th></th>\n",
       "      <th>Country</th>\n",
       "      <th>Year</th>\n",
       "      <th>GDP_Per_Capita</th>\n",
       "    </tr>\n",
       "  </thead>\n",
       "  <tbody>\n",
       "    <tr>\n",
       "      <th>6838</th>\n",
       "      <td>United Arab Emirates</td>\n",
       "      <td>1990</td>\n",
       "      <td>111454.055665</td>\n",
       "    </tr>\n",
       "  </tbody>\n",
       "</table>\n",
       "</div>"
      ],
      "text/plain": [
       "                   Country  Year  GDP_Per_Capita\n",
       "6838  United Arab Emirates  1990   111454.055665"
      ]
     },
     "execution_count": 72,
     "metadata": {},
     "output_type": "execute_result"
    }
   ],
   "source": [
    "gdp_df.loc[gdp_df.GDP_Per_Capita > 100000].sort_values(\"Year\").head(1)"
   ]
  },
  {
   "cell_type": "code",
   "execution_count": 73,
   "id": "bfa86198",
   "metadata": {},
   "outputs": [
    {
     "data": {
      "text/plain": [
       "['United Arab Emirates']"
      ]
     },
     "execution_count": 73,
     "metadata": {},
     "output_type": "execute_result"
    }
   ],
   "source": [
    "gdp_df.loc[gdp_df.GDP_Per_Capita > 100000].sort_values(\"Year\").Country.head(1).to_list()"
   ]
  },
  {
   "cell_type": "code",
   "execution_count": null,
   "id": "11276a9b",
   "metadata": {},
   "outputs": [],
   "source": [
    "#Q12.Which country had the highest GDP per capita in 2020? \n",
    "#Create a plot showing how this country's GDP per capita has changed over the timespan of the dataset."
   ]
  },
  {
   "cell_type": "code",
   "execution_count": null,
   "id": "175240b5",
   "metadata": {},
   "outputs": [],
   "source": [
    "# other way below"
   ]
  },
  {
   "cell_type": "code",
   "execution_count": 74,
   "id": "f1f0f144",
   "metadata": {},
   "outputs": [],
   "source": [
    "gdp_2020 = gdp_df[gdp_df['Year'] ==2020]"
   ]
  },
  {
   "cell_type": "code",
   "execution_count": 79,
   "id": "8dc2dc8e",
   "metadata": {},
   "outputs": [],
   "source": [
    "highest_countrygdp_2020=gdp_2020.sort_values(\"GDP_Per_Capita\", ascending=False).Country.head(1).to_list()"
   ]
  },
  {
   "cell_type": "code",
   "execution_count": 80,
   "id": "578d7def",
   "metadata": {},
   "outputs": [
    {
     "name": "stdout",
     "output_type": "stream",
     "text": [
      "['Luxembourg']\n"
     ]
    }
   ],
   "source": [
    "print(highest_countrygdp_2020)"
   ]
  },
  {
   "cell_type": "code",
   "execution_count": null,
   "id": "1079792e",
   "metadata": {},
   "outputs": [],
   "source": [
    "#"
   ]
  },
  {
   "cell_type": "code",
   "execution_count": 81,
   "id": "e0768600",
   "metadata": {},
   "outputs": [],
   "source": [
    "highest_countrygdp_2020 = gdp_2020[gdp_2020['GDP_Per_Capita'] == gdp_2020['GDP_Per_Capita'].max()]"
   ]
  },
  {
   "cell_type": "code",
   "execution_count": 82,
   "id": "11801a39",
   "metadata": {},
   "outputs": [],
   "source": [
    "extract_country_highestgdp2020 = highest_countrygdp_2020.iloc[0]['Country']"
   ]
  },
  {
   "cell_type": "code",
   "execution_count": 83,
   "id": "20d42fa2",
   "metadata": {},
   "outputs": [
    {
     "name": "stdout",
     "output_type": "stream",
     "text": [
      "Luxembourg\n"
     ]
    }
   ],
   "source": [
    "print(extract_country_highestgdp2020)"
   ]
  },
  {
   "cell_type": "code",
   "execution_count": 84,
   "id": "e1e31cf3",
   "metadata": {},
   "outputs": [],
   "source": [
    "gdp_df_luxembourg = gdp_df[gdp_df['Country'] == 'Luxembourg']"
   ]
  },
  {
   "cell_type": "code",
   "execution_count": 85,
   "id": "0693e651",
   "metadata": {},
   "outputs": [
    {
     "data": {
      "text/plain": [
       "[<matplotlib.lines.Line2D at 0x1e287a41d50>]"
      ]
     },
     "execution_count": 85,
     "metadata": {},
     "output_type": "execute_result"
    },
    {
     "data": {
      "image/png": "[encoded data removed]",
      "text/plain": [
       "<Figure size 640x480 with 1 Axes>"
      ]
     },
     "metadata": {},
     "output_type": "display_data"
    }
   ],
   "source": [
    "plt.plot(gdp_df_luxembourg['Year'], gdp_df_luxembourg['GDP_Per_Capita'], marker='o', linestyle='-', color='blue')"
   ]
  },
  {
   "cell_type": "code",
   "execution_count": 86,
   "id": "4378bd69",
   "metadata": {},
   "outputs": [],
   "source": [
    "#13. Which country had the lowest GDP per capita in 2020? \n",
    "#Create a plot showing how this country's GDP per capita has changed over the timespan of the dataset."
   ]
  },
  {
   "cell_type": "code",
   "execution_count": 87,
   "id": "7e4b41de",
   "metadata": {},
   "outputs": [],
   "source": [
    "lowest_countrygdp_2020 = gdp_2020[gdp_2020['GDP_Per_Capita'] == gdp_2020['GDP_Per_Capita'].min()]"
   ]
  },
  {
   "cell_type": "code",
   "execution_count": 88,
   "id": "53e6c3dd",
   "metadata": {},
   "outputs": [],
   "source": [
    "extract_country_lowestestgdp2020 = lowest_countrygdp_2020.iloc[0]['Country']"
   ]
  },
  {
   "cell_type": "code",
   "execution_count": 89,
   "id": "f94670a6",
   "metadata": {},
   "outputs": [
    {
     "name": "stdout",
     "output_type": "stream",
     "text": [
      "Burundi\n"
     ]
    }
   ],
   "source": [
    "print(extract_country_lowestestgdp2020)"
   ]
  },
  {
   "cell_type": "code",
   "execution_count": 90,
   "id": "1afe8c45",
   "metadata": {},
   "outputs": [],
   "source": [
    "gdp_df_burundi = gdp_df[gdp_df['Country'] == 'Burundi']"
   ]
  },
  {
   "cell_type": "code",
   "execution_count": 91,
   "id": "9c6770b5",
   "metadata": {},
   "outputs": [
    {
     "name": "stdout",
     "output_type": "stream",
     "text": [
      "     Country  Year  GDP_Per_Capita\n",
      "914  Burundi  2020      731.064074\n",
      "915  Burundi  2019      751.443405\n",
      "916  Burundi  2018      761.524143\n",
      "917  Burundi  2017      773.572859\n",
      "918  Burundi  2016      794.604340\n",
      "919  Burundi  2015      825.205574\n",
      "920  Burundi  2014      886.235296\n",
      "921  Burundi  2013      877.272857\n",
      "922  Burundi  2012      862.715651\n",
      "923  Burundi  2011      852.502576\n",
      "924  Burundi  2010      846.169112\n",
      "925  Burundi  2009      831.564843\n",
      "926  Burundi  2008      827.792334\n",
      "927  Burundi  2007      815.908213\n",
      "928  Burundi  2006      815.053647\n",
      "929  Burundi  2005      798.704845\n",
      "930  Burundi  2004      817.461177\n",
      "931  Burundi  2003      804.884232\n",
      "932  Burundi  2002      839.777920\n",
      "933  Burundi  2001      826.028960\n",
      "934  Burundi  2000      828.000479\n",
      "935  Burundi  1999      850.046951\n",
      "936  Burundi  1998      870.043821\n",
      "937  Burundi  1997      839.196865\n",
      "938  Burundi  1996      861.482899\n",
      "939  Burundi  1995      947.822231\n",
      "940  Burundi  1994     1044.716092\n",
      "941  Burundi  1993     1105.228711\n",
      "942  Burundi  1992     1202.106321\n",
      "943  Burundi  1991     1215.887215\n",
      "944  Burundi  1990     1184.842032\n"
     ]
    }
   ],
   "source": [
    "print(gdp_df_burundi)"
   ]
  },
  {
   "cell_type": "code",
   "execution_count": 92,
   "id": "a4264eb3",
   "metadata": {},
   "outputs": [
    {
     "data": {
      "text/plain": [
       "[<matplotlib.lines.Line2D at 0x1e287f05010>]"
      ]
     },
     "execution_count": 92,
     "metadata": {},
     "output_type": "execute_result"
    },
    {
     "data": {
      "image/png": "[encoded data removed]",
      "text/plain": [
       "<Figure size 640x480 with 1 Axes>"
      ]
     },
     "metadata": {},
     "output_type": "display_data"
    }
   ],
   "source": [
    "plt.plot(gdp_df_burundi['Year'], gdp_df_burundi['GDP_Per_Capita'], marker='o', linestyle='-', color='blue')"
   ]
  },
  {
   "cell_type": "code",
   "execution_count": 99,
   "id": "e2f42eb2",
   "metadata": {},
   "outputs": [],
   "source": [
    "gdp_1990 = gdp_df.loc[gdp_df.Year==1990]"
   ]
  },
  {
   "cell_type": "code",
   "execution_count": 100,
   "id": "1e08a24e",
   "metadata": {},
   "outputs": [],
   "source": [
    "merged_90_20=pd.merge(gdp_1990, gdp_2020, how= 'inner', on ='Country')"
   ]
  },
  {
   "cell_type": "code",
   "execution_count": 101,
   "id": "1ae0253c",
   "metadata": {},
   "outputs": [
    {
     "data": {
      "text/html": [
       "<div>\n",
       "<style scoped>\n",
       "    .dataframe tbody tr th:only-of-type {\n",
       "        vertical-align: middle;\n",
       "    }\n",
       "\n",
       "    .dataframe tbody tr th {\n",
       "        vertical-align: top;\n",
       "    }\n",
       "\n",
       "    .dataframe thead th {\n",
       "        text-align: right;\n",
       "    }\n",
       "</style>\n",
       "<table border=\"1\" class=\"dataframe\">\n",
       "  <thead>\n",
       "    <tr style=\"text-align: right;\">\n",
       "      <th></th>\n",
       "      <th>Country</th>\n",
       "      <th>Year_x</th>\n",
       "      <th>GDP_Per_Capita_x</th>\n",
       "      <th>Year_y</th>\n",
       "      <th>GDP_Per_Capita_y</th>\n",
       "    </tr>\n",
       "  </thead>\n",
       "  <tbody>\n",
       "    <tr>\n",
       "      <th>0</th>\n",
       "      <td>Africa Eastern and Southern</td>\n",
       "      <td>1990</td>\n",
       "      <td>3083.9768</td>\n",
       "      <td>2020</td>\n",
       "      <td>3491.978104</td>\n",
       "    </tr>\n",
       "  </tbody>\n",
       "</table>\n",
       "</div>"
      ],
      "text/plain": [
       "                       Country  Year_x  GDP_Per_Capita_x  Year_y  \\\n",
       "0  Africa Eastern and Southern    1990         3083.9768    2020   \n",
       "\n",
       "   GDP_Per_Capita_y  \n",
       "0       3491.978104  "
      ]
     },
     "execution_count": 101,
     "metadata": {},
     "output_type": "execute_result"
    }
   ],
   "source": [
    "merged_90_20.head(1)"
   ]
  },
  {
   "cell_type": "code",
   "execution_count": 103,
   "id": "0b492f90",
   "metadata": {},
   "outputs": [
    {
     "data": {
      "text/plain": [
       "22"
      ]
     },
     "execution_count": 103,
     "metadata": {},
     "output_type": "execute_result"
    }
   ],
   "source": [
    "len(merged_90_20.loc[merged_90_20.GDP_Per_Capita_y<merged_90_20.GDP_Per_Capita_x])"
   ]
  },
  {
   "cell_type": "code",
   "execution_count": 93,
   "id": "d1c602a4",
   "metadata": {},
   "outputs": [],
   "source": [
    "#**Bonus question:** Is it true in general that coutries had a higher GDP per capita in 2020 than in 1990? \n",
    "#Which countries had lower GDP per capita in 2020 than in 1990?"
   ]
  },
  {
   "cell_type": "code",
   "execution_count": 94,
   "id": "c17c093e",
   "metadata": {},
   "outputs": [],
   "source": [
    "median_gdp_1990 = gdp_df[gdp_df['Year'] == 1990]['GDP_Per_Capita'].median()"
   ]
  },
  {
   "cell_type": "code",
   "execution_count": 95,
   "id": "9c91f315",
   "metadata": {},
   "outputs": [
    {
     "name": "stdout",
     "output_type": "stream",
     "text": [
      "6028.14473170836\n"
     ]
    }
   ],
   "source": [
    "print(median_gdp_1990)"
   ]
  },
  {
   "cell_type": "code",
   "execution_count": 96,
   "id": "0895579b",
   "metadata": {},
   "outputs": [],
   "source": [
    "median_gdp_2020 = gdp_df[gdp_df['Year'] == 2020]['GDP_Per_Capita'].median()"
   ]
  },
  {
   "cell_type": "code",
   "execution_count": 97,
   "id": "9ffa8863",
   "metadata": {},
   "outputs": [
    {
     "name": "stdout",
     "output_type": "stream",
     "text": [
      "12908.9374056206\n"
     ]
    }
   ],
   "source": [
    "print(median_gdp_2020)"
   ]
  },
  {
   "cell_type": "code",
   "execution_count": null,
   "id": "3fdb1b29",
   "metadata": {},
   "outputs": [],
   "source": [
    "# From the above visuals, I can say that countries had a higher GDP per capita in 2020 than in 1990. "
   ]
  },
  {
   "cell_type": "code",
   "execution_count": null,
   "id": "426f4e73",
   "metadata": {},
   "outputs": [],
   "source": [
    "# GDP_per_capita in 1990: $6,028.14 and GDP_per_capita in 2020: $12,908.94\n",
    "#  The lower GDP per capita in 2020 than in 1990"
   ]
  },
  {
   "cell_type": "code",
   "execution_count": null,
   "id": "3a72d135",
   "metadata": {},
   "outputs": [],
   "source": [
    "#14. Read in the internet use dataset into a DataFrame named `internet_df`. \n",
    "#You will likely get errors when doing this. Check the arguments for the read_csv function to find ones that can help correct the errors (https://pandas.pydata.org/docs/reference/api/pandas.read_csv.html) \n",
    "#Once you are able to read it in, take per a look at the top and bottom few rows to make sure that it has been read in correctly. \n",
    "#Also, check the datatypes of the columns."
   ]
  },
  {
   "cell_type": "code",
   "execution_count": null,
   "id": "59611238",
   "metadata": {},
   "outputs": [],
   "source": [
    "# internet_use Dataset"
   ]
  },
  {
   "cell_type": "code",
   "execution_count": 104,
   "id": "7f35ae24",
   "metadata": {},
   "outputs": [
    {
     "data": {
      "text/html": [
       "<div>\n",
       "<style scoped>\n",
       "    .dataframe tbody tr th:only-of-type {\n",
       "        vertical-align: middle;\n",
       "    }\n",
       "\n",
       "    .dataframe tbody tr th {\n",
       "        vertical-align: top;\n",
       "    }\n",
       "\n",
       "    .dataframe thead th {\n",
       "        text-align: right;\n",
       "    }\n",
       "</style>\n",
       "<table border=\"1\" class=\"dataframe\">\n",
       "  <thead>\n",
       "    <tr style=\"text-align: right;\">\n",
       "      <th></th>\n",
       "      <th>Country or Area</th>\n",
       "      <th>Year</th>\n",
       "      <th>Value</th>\n",
       "      <th>Value Footnotes</th>\n",
       "    </tr>\n",
       "  </thead>\n",
       "  <tbody>\n",
       "    <tr>\n",
       "      <th>0</th>\n",
       "      <td>Afghanistan</td>\n",
       "      <td>2014</td>\n",
       "      <td>6.390000</td>\n",
       "      <td>NaN</td>\n",
       "    </tr>\n",
       "    <tr>\n",
       "      <th>1</th>\n",
       "      <td>Afghanistan</td>\n",
       "      <td>2013</td>\n",
       "      <td>5.900000</td>\n",
       "      <td>NaN</td>\n",
       "    </tr>\n",
       "    <tr>\n",
       "      <th>2</th>\n",
       "      <td>Afghanistan</td>\n",
       "      <td>2012</td>\n",
       "      <td>5.454545</td>\n",
       "      <td>NaN</td>\n",
       "    </tr>\n",
       "    <tr>\n",
       "      <th>3</th>\n",
       "      <td>Afghanistan</td>\n",
       "      <td>2011</td>\n",
       "      <td>5.000000</td>\n",
       "      <td>NaN</td>\n",
       "    </tr>\n",
       "    <tr>\n",
       "      <th>4</th>\n",
       "      <td>Afghanistan</td>\n",
       "      <td>2010</td>\n",
       "      <td>4.000000</td>\n",
       "      <td>NaN</td>\n",
       "    </tr>\n",
       "    <tr>\n",
       "      <th>...</th>\n",
       "      <td>...</td>\n",
       "      <td>...</td>\n",
       "      <td>...</td>\n",
       "      <td>...</td>\n",
       "    </tr>\n",
       "    <tr>\n",
       "      <th>4670</th>\n",
       "      <td>175</td>\n",
       "      <td>Includes individuals 3 years and older</td>\n",
       "      <td>NaN</td>\n",
       "      <td>NaN</td>\n",
       "    </tr>\n",
       "    <tr>\n",
       "      <th>4671</th>\n",
       "      <td>176</td>\n",
       "      <td>NTIA/CPS survey.</td>\n",
       "      <td>NaN</td>\n",
       "      <td>NaN</td>\n",
       "    </tr>\n",
       "    <tr>\n",
       "      <th>4672</th>\n",
       "      <td>178</td>\n",
       "      <td>Estimated based on Survey's results. Populatio...</td>\n",
       "      <td>NaN</td>\n",
       "      <td>NaN</td>\n",
       "    </tr>\n",
       "    <tr>\n",
       "      <th>4673</th>\n",
       "      <td>179</td>\n",
       "      <td>Preliminary. Country estimate.</td>\n",
       "      <td>NaN</td>\n",
       "      <td>NaN</td>\n",
       "    </tr>\n",
       "    <tr>\n",
       "      <th>4674</th>\n",
       "      <td>180</td>\n",
       "      <td>The methodology used to estimated the figure f...</td>\n",
       "      <td>NaN</td>\n",
       "      <td>NaN</td>\n",
       "    </tr>\n",
       "  </tbody>\n",
       "</table>\n",
       "<p>4675 rows × 4 columns</p>\n",
       "</div>"
      ],
      "text/plain": [
       "     Country or Area                                               Year  \\\n",
       "0        Afghanistan                                               2014   \n",
       "1        Afghanistan                                               2013   \n",
       "2        Afghanistan                                               2012   \n",
       "3        Afghanistan                                               2011   \n",
       "4        Afghanistan                                               2010   \n",
       "...              ...                                                ...   \n",
       "4670             175             Includes individuals 3 years and older   \n",
       "4671             176                                   NTIA/CPS survey.   \n",
       "4672             178  Estimated based on Survey's results. Populatio...   \n",
       "4673             179                     Preliminary. Country estimate.   \n",
       "4674             180  The methodology used to estimated the figure f...   \n",
       "\n",
       "         Value  Value Footnotes  \n",
       "0     6.390000              NaN  \n",
       "1     5.900000              NaN  \n",
       "2     5.454545              NaN  \n",
       "3     5.000000              NaN  \n",
       "4     4.000000              NaN  \n",
       "...        ...              ...  \n",
       "4670       NaN              NaN  \n",
       "4671       NaN              NaN  \n",
       "4672       NaN              NaN  \n",
       "4673       NaN              NaN  \n",
       "4674       NaN              NaN  \n",
       "\n",
       "[4675 rows x 4 columns]"
      ]
     },
     "execution_count": 104,
     "metadata": {},
     "output_type": "execute_result"
    }
   ],
   "source": [
    "pd.read_csv('../data/internet_use.csv.csv', on_bad_lines = 'skip')\n"
   ]
  },
  {
   "cell_type": "code",
   "execution_count": 105,
   "id": "23150e52",
   "metadata": {},
   "outputs": [
    {
     "data": {
      "text/html": [
       "<div>\n",
       "<style scoped>\n",
       "    .dataframe tbody tr th:only-of-type {\n",
       "        vertical-align: middle;\n",
       "    }\n",
       "\n",
       "    .dataframe tbody tr th {\n",
       "        vertical-align: top;\n",
       "    }\n",
       "\n",
       "    .dataframe thead th {\n",
       "        text-align: right;\n",
       "    }\n",
       "</style>\n",
       "<table border=\"1\" class=\"dataframe\">\n",
       "  <thead>\n",
       "    <tr style=\"text-align: right;\">\n",
       "      <th></th>\n",
       "      <th>Country or Area</th>\n",
       "      <th>Year</th>\n",
       "      <th>Value</th>\n",
       "      <th>Value Footnotes</th>\n",
       "    </tr>\n",
       "  </thead>\n",
       "  <tbody>\n",
       "    <tr>\n",
       "      <th>0</th>\n",
       "      <td>Afghanistan</td>\n",
       "      <td>2014</td>\n",
       "      <td>6.390000</td>\n",
       "      <td>NaN</td>\n",
       "    </tr>\n",
       "    <tr>\n",
       "      <th>1</th>\n",
       "      <td>Afghanistan</td>\n",
       "      <td>2013</td>\n",
       "      <td>5.900000</td>\n",
       "      <td>NaN</td>\n",
       "    </tr>\n",
       "    <tr>\n",
       "      <th>2</th>\n",
       "      <td>Afghanistan</td>\n",
       "      <td>2012</td>\n",
       "      <td>5.454545</td>\n",
       "      <td>NaN</td>\n",
       "    </tr>\n",
       "    <tr>\n",
       "      <th>3</th>\n",
       "      <td>Afghanistan</td>\n",
       "      <td>2011</td>\n",
       "      <td>5.000000</td>\n",
       "      <td>NaN</td>\n",
       "    </tr>\n",
       "    <tr>\n",
       "      <th>4</th>\n",
       "      <td>Afghanistan</td>\n",
       "      <td>2010</td>\n",
       "      <td>4.000000</td>\n",
       "      <td>NaN</td>\n",
       "    </tr>\n",
       "    <tr>\n",
       "      <th>...</th>\n",
       "      <td>...</td>\n",
       "      <td>...</td>\n",
       "      <td>...</td>\n",
       "      <td>...</td>\n",
       "    </tr>\n",
       "    <tr>\n",
       "      <th>4670</th>\n",
       "      <td>175</td>\n",
       "      <td>Includes individuals 3 years and older</td>\n",
       "      <td>NaN</td>\n",
       "      <td>NaN</td>\n",
       "    </tr>\n",
       "    <tr>\n",
       "      <th>4671</th>\n",
       "      <td>176</td>\n",
       "      <td>NTIA/CPS survey.</td>\n",
       "      <td>NaN</td>\n",
       "      <td>NaN</td>\n",
       "    </tr>\n",
       "    <tr>\n",
       "      <th>4672</th>\n",
       "      <td>178</td>\n",
       "      <td>Estimated based on Survey's results. Populatio...</td>\n",
       "      <td>NaN</td>\n",
       "      <td>NaN</td>\n",
       "    </tr>\n",
       "    <tr>\n",
       "      <th>4673</th>\n",
       "      <td>179</td>\n",
       "      <td>Preliminary. Country estimate.</td>\n",
       "      <td>NaN</td>\n",
       "      <td>NaN</td>\n",
       "    </tr>\n",
       "    <tr>\n",
       "      <th>4674</th>\n",
       "      <td>180</td>\n",
       "      <td>The methodology used to estimated the figure f...</td>\n",
       "      <td>NaN</td>\n",
       "      <td>NaN</td>\n",
       "    </tr>\n",
       "  </tbody>\n",
       "</table>\n",
       "<p>4675 rows × 4 columns</p>\n",
       "</div>"
      ],
      "text/plain": [
       "     Country or Area                                               Year  \\\n",
       "0        Afghanistan                                               2014   \n",
       "1        Afghanistan                                               2013   \n",
       "2        Afghanistan                                               2012   \n",
       "3        Afghanistan                                               2011   \n",
       "4        Afghanistan                                               2010   \n",
       "...              ...                                                ...   \n",
       "4670             175             Includes individuals 3 years and older   \n",
       "4671             176                                   NTIA/CPS survey.   \n",
       "4672             178  Estimated based on Survey's results. Populatio...   \n",
       "4673             179                     Preliminary. Country estimate.   \n",
       "4674             180  The methodology used to estimated the figure f...   \n",
       "\n",
       "         Value  Value Footnotes  \n",
       "0     6.390000              NaN  \n",
       "1     5.900000              NaN  \n",
       "2     5.454545              NaN  \n",
       "3     5.000000              NaN  \n",
       "4     4.000000              NaN  \n",
       "...        ...              ...  \n",
       "4670       NaN              NaN  \n",
       "4671       NaN              NaN  \n",
       "4672       NaN              NaN  \n",
       "4673       NaN              NaN  \n",
       "4674       NaN              NaN  \n",
       "\n",
       "[4675 rows x 4 columns]"
      ]
     },
     "execution_count": 105,
     "metadata": {},
     "output_type": "execute_result"
    }
   ],
   "source": [
    "internet_df = pd.read_csv('../data/internet_use.csv.csv', on_bad_lines = 'skip')\n",
    "internet_df"
   ]
  },
  {
   "cell_type": "code",
   "execution_count": 106,
   "id": "02ca2fa4",
   "metadata": {},
   "outputs": [
    {
     "data": {
      "text/html": [
       "<div>\n",
       "<style scoped>\n",
       "    .dataframe tbody tr th:only-of-type {\n",
       "        vertical-align: middle;\n",
       "    }\n",
       "\n",
       "    .dataframe tbody tr th {\n",
       "        vertical-align: top;\n",
       "    }\n",
       "\n",
       "    .dataframe thead th {\n",
       "        text-align: right;\n",
       "    }\n",
       "</style>\n",
       "<table border=\"1\" class=\"dataframe\">\n",
       "  <thead>\n",
       "    <tr style=\"text-align: right;\">\n",
       "      <th></th>\n",
       "      <th>Country or Area</th>\n",
       "      <th>Year</th>\n",
       "      <th>Value</th>\n",
       "      <th>Value Footnotes</th>\n",
       "    </tr>\n",
       "  </thead>\n",
       "  <tbody>\n",
       "    <tr>\n",
       "      <th>0</th>\n",
       "      <td>Afghanistan</td>\n",
       "      <td>2014</td>\n",
       "      <td>6.390000</td>\n",
       "      <td>NaN</td>\n",
       "    </tr>\n",
       "    <tr>\n",
       "      <th>1</th>\n",
       "      <td>Afghanistan</td>\n",
       "      <td>2013</td>\n",
       "      <td>5.900000</td>\n",
       "      <td>NaN</td>\n",
       "    </tr>\n",
       "    <tr>\n",
       "      <th>2</th>\n",
       "      <td>Afghanistan</td>\n",
       "      <td>2012</td>\n",
       "      <td>5.454545</td>\n",
       "      <td>NaN</td>\n",
       "    </tr>\n",
       "    <tr>\n",
       "      <th>3</th>\n",
       "      <td>Afghanistan</td>\n",
       "      <td>2011</td>\n",
       "      <td>5.000000</td>\n",
       "      <td>NaN</td>\n",
       "    </tr>\n",
       "    <tr>\n",
       "      <th>4</th>\n",
       "      <td>Afghanistan</td>\n",
       "      <td>2010</td>\n",
       "      <td>4.000000</td>\n",
       "      <td>NaN</td>\n",
       "    </tr>\n",
       "  </tbody>\n",
       "</table>\n",
       "</div>"
      ],
      "text/plain": [
       "  Country or Area  Year     Value  Value Footnotes\n",
       "0     Afghanistan  2014  6.390000              NaN\n",
       "1     Afghanistan  2013  5.900000              NaN\n",
       "2     Afghanistan  2012  5.454545              NaN\n",
       "3     Afghanistan  2011  5.000000              NaN\n",
       "4     Afghanistan  2010  4.000000              NaN"
      ]
     },
     "execution_count": 106,
     "metadata": {},
     "output_type": "execute_result"
    }
   ],
   "source": [
    "internet_df.head()"
   ]
  },
  {
   "cell_type": "code",
   "execution_count": 107,
   "id": "77871653",
   "metadata": {},
   "outputs": [
    {
     "data": {
      "text/html": [
       "<div>\n",
       "<style scoped>\n",
       "    .dataframe tbody tr th:only-of-type {\n",
       "        vertical-align: middle;\n",
       "    }\n",
       "\n",
       "    .dataframe tbody tr th {\n",
       "        vertical-align: top;\n",
       "    }\n",
       "\n",
       "    .dataframe thead th {\n",
       "        text-align: right;\n",
       "    }\n",
       "</style>\n",
       "<table border=\"1\" class=\"dataframe\">\n",
       "  <thead>\n",
       "    <tr style=\"text-align: right;\">\n",
       "      <th></th>\n",
       "      <th>Country or Area</th>\n",
       "      <th>Year</th>\n",
       "      <th>Value</th>\n",
       "      <th>Value Footnotes</th>\n",
       "    </tr>\n",
       "  </thead>\n",
       "  <tbody>\n",
       "    <tr>\n",
       "      <th>4670</th>\n",
       "      <td>175</td>\n",
       "      <td>Includes individuals 3 years and older</td>\n",
       "      <td>NaN</td>\n",
       "      <td>NaN</td>\n",
       "    </tr>\n",
       "    <tr>\n",
       "      <th>4671</th>\n",
       "      <td>176</td>\n",
       "      <td>NTIA/CPS survey.</td>\n",
       "      <td>NaN</td>\n",
       "      <td>NaN</td>\n",
       "    </tr>\n",
       "    <tr>\n",
       "      <th>4672</th>\n",
       "      <td>178</td>\n",
       "      <td>Estimated based on Survey's results. Populatio...</td>\n",
       "      <td>NaN</td>\n",
       "      <td>NaN</td>\n",
       "    </tr>\n",
       "    <tr>\n",
       "      <th>4673</th>\n",
       "      <td>179</td>\n",
       "      <td>Preliminary. Country estimate.</td>\n",
       "      <td>NaN</td>\n",
       "      <td>NaN</td>\n",
       "    </tr>\n",
       "    <tr>\n",
       "      <th>4674</th>\n",
       "      <td>180</td>\n",
       "      <td>The methodology used to estimated the figure f...</td>\n",
       "      <td>NaN</td>\n",
       "      <td>NaN</td>\n",
       "    </tr>\n",
       "  </tbody>\n",
       "</table>\n",
       "</div>"
      ],
      "text/plain": [
       "     Country or Area                                               Year  \\\n",
       "4670             175             Includes individuals 3 years and older   \n",
       "4671             176                                   NTIA/CPS survey.   \n",
       "4672             178  Estimated based on Survey's results. Populatio...   \n",
       "4673             179                     Preliminary. Country estimate.   \n",
       "4674             180  The methodology used to estimated the figure f...   \n",
       "\n",
       "      Value  Value Footnotes  \n",
       "4670    NaN              NaN  \n",
       "4671    NaN              NaN  \n",
       "4672    NaN              NaN  \n",
       "4673    NaN              NaN  \n",
       "4674    NaN              NaN  "
      ]
     },
     "execution_count": 107,
     "metadata": {},
     "output_type": "execute_result"
    }
   ],
   "source": [
    "internet_df.tail()"
   ]
  },
  {
   "cell_type": "code",
   "execution_count": 108,
   "id": "ee030dd3",
   "metadata": {},
   "outputs": [
    {
     "data": {
      "text/plain": [
       "Country or Area     object\n",
       "Year                object\n",
       "Value              float64\n",
       "Value Footnotes    float64\n",
       "dtype: object"
      ]
     },
     "execution_count": 108,
     "metadata": {},
     "output_type": "execute_result"
    }
   ],
   "source": [
    "internet_df.dtypes"
   ]
  },
  {
   "cell_type": "code",
   "execution_count": 109,
   "id": "b2965dd5",
   "metadata": {},
   "outputs": [],
   "source": [
    "#15. Drop the `Value Footnotes` column and rename the remaining three to 'Country', 'Year', and 'Internet_Users_Pct'."
   ]
  },
  {
   "cell_type": "code",
   "execution_count": 110,
   "id": "6ed30160",
   "metadata": {},
   "outputs": [
    {
     "data": {
      "text/html": [
       "<div>\n",
       "<style scoped>\n",
       "    .dataframe tbody tr th:only-of-type {\n",
       "        vertical-align: middle;\n",
       "    }\n",
       "\n",
       "    .dataframe tbody tr th {\n",
       "        vertical-align: top;\n",
       "    }\n",
       "\n",
       "    .dataframe thead th {\n",
       "        text-align: right;\n",
       "    }\n",
       "</style>\n",
       "<table border=\"1\" class=\"dataframe\">\n",
       "  <thead>\n",
       "    <tr style=\"text-align: right;\">\n",
       "      <th></th>\n",
       "      <th>Country or Area</th>\n",
       "      <th>Year</th>\n",
       "      <th>Value</th>\n",
       "    </tr>\n",
       "  </thead>\n",
       "  <tbody>\n",
       "    <tr>\n",
       "      <th>0</th>\n",
       "      <td>Afghanistan</td>\n",
       "      <td>2014</td>\n",
       "      <td>6.390000</td>\n",
       "    </tr>\n",
       "    <tr>\n",
       "      <th>1</th>\n",
       "      <td>Afghanistan</td>\n",
       "      <td>2013</td>\n",
       "      <td>5.900000</td>\n",
       "    </tr>\n",
       "    <tr>\n",
       "      <th>2</th>\n",
       "      <td>Afghanistan</td>\n",
       "      <td>2012</td>\n",
       "      <td>5.454545</td>\n",
       "    </tr>\n",
       "    <tr>\n",
       "      <th>3</th>\n",
       "      <td>Afghanistan</td>\n",
       "      <td>2011</td>\n",
       "      <td>5.000000</td>\n",
       "    </tr>\n",
       "    <tr>\n",
       "      <th>4</th>\n",
       "      <td>Afghanistan</td>\n",
       "      <td>2010</td>\n",
       "      <td>4.000000</td>\n",
       "    </tr>\n",
       "    <tr>\n",
       "      <th>...</th>\n",
       "      <td>...</td>\n",
       "      <td>...</td>\n",
       "      <td>...</td>\n",
       "    </tr>\n",
       "    <tr>\n",
       "      <th>4670</th>\n",
       "      <td>175</td>\n",
       "      <td>Includes individuals 3 years and older</td>\n",
       "      <td>NaN</td>\n",
       "    </tr>\n",
       "    <tr>\n",
       "      <th>4671</th>\n",
       "      <td>176</td>\n",
       "      <td>NTIA/CPS survey.</td>\n",
       "      <td>NaN</td>\n",
       "    </tr>\n",
       "    <tr>\n",
       "      <th>4672</th>\n",
       "      <td>178</td>\n",
       "      <td>Estimated based on Survey's results. Populatio...</td>\n",
       "      <td>NaN</td>\n",
       "    </tr>\n",
       "    <tr>\n",
       "      <th>4673</th>\n",
       "      <td>179</td>\n",
       "      <td>Preliminary. Country estimate.</td>\n",
       "      <td>NaN</td>\n",
       "    </tr>\n",
       "    <tr>\n",
       "      <th>4674</th>\n",
       "      <td>180</td>\n",
       "      <td>The methodology used to estimated the figure f...</td>\n",
       "      <td>NaN</td>\n",
       "    </tr>\n",
       "  </tbody>\n",
       "</table>\n",
       "<p>4675 rows × 3 columns</p>\n",
       "</div>"
      ],
      "text/plain": [
       "     Country or Area                                               Year  \\\n",
       "0        Afghanistan                                               2014   \n",
       "1        Afghanistan                                               2013   \n",
       "2        Afghanistan                                               2012   \n",
       "3        Afghanistan                                               2011   \n",
       "4        Afghanistan                                               2010   \n",
       "...              ...                                                ...   \n",
       "4670             175             Includes individuals 3 years and older   \n",
       "4671             176                                   NTIA/CPS survey.   \n",
       "4672             178  Estimated based on Survey's results. Populatio...   \n",
       "4673             179                     Preliminary. Country estimate.   \n",
       "4674             180  The methodology used to estimated the figure f...   \n",
       "\n",
       "         Value  \n",
       "0     6.390000  \n",
       "1     5.900000  \n",
       "2     5.454545  \n",
       "3     5.000000  \n",
       "4     4.000000  \n",
       "...        ...  \n",
       "4670       NaN  \n",
       "4671       NaN  \n",
       "4672       NaN  \n",
       "4673       NaN  \n",
       "4674       NaN  \n",
       "\n",
       "[4675 rows x 3 columns]"
      ]
     },
     "execution_count": 110,
     "metadata": {},
     "output_type": "execute_result"
    }
   ],
   "source": [
    "internet_df.drop(columns=[\"Value Footnotes\"])"
   ]
  },
  {
   "cell_type": "code",
   "execution_count": 111,
   "id": "d0e96f12",
   "metadata": {},
   "outputs": [
    {
     "data": {
      "text/html": [
       "<div>\n",
       "<style scoped>\n",
       "    .dataframe tbody tr th:only-of-type {\n",
       "        vertical-align: middle;\n",
       "    }\n",
       "\n",
       "    .dataframe tbody tr th {\n",
       "        vertical-align: top;\n",
       "    }\n",
       "\n",
       "    .dataframe thead th {\n",
       "        text-align: right;\n",
       "    }\n",
       "</style>\n",
       "<table border=\"1\" class=\"dataframe\">\n",
       "  <thead>\n",
       "    <tr style=\"text-align: right;\">\n",
       "      <th></th>\n",
       "      <th>Country</th>\n",
       "      <th>Year</th>\n",
       "      <th>Internet_Users_Pct</th>\n",
       "      <th>Value Footnotes</th>\n",
       "    </tr>\n",
       "  </thead>\n",
       "  <tbody>\n",
       "    <tr>\n",
       "      <th>0</th>\n",
       "      <td>Afghanistan</td>\n",
       "      <td>2014</td>\n",
       "      <td>6.390000</td>\n",
       "      <td>NaN</td>\n",
       "    </tr>\n",
       "    <tr>\n",
       "      <th>1</th>\n",
       "      <td>Afghanistan</td>\n",
       "      <td>2013</td>\n",
       "      <td>5.900000</td>\n",
       "      <td>NaN</td>\n",
       "    </tr>\n",
       "    <tr>\n",
       "      <th>2</th>\n",
       "      <td>Afghanistan</td>\n",
       "      <td>2012</td>\n",
       "      <td>5.454545</td>\n",
       "      <td>NaN</td>\n",
       "    </tr>\n",
       "    <tr>\n",
       "      <th>3</th>\n",
       "      <td>Afghanistan</td>\n",
       "      <td>2011</td>\n",
       "      <td>5.000000</td>\n",
       "      <td>NaN</td>\n",
       "    </tr>\n",
       "    <tr>\n",
       "      <th>4</th>\n",
       "      <td>Afghanistan</td>\n",
       "      <td>2010</td>\n",
       "      <td>4.000000</td>\n",
       "      <td>NaN</td>\n",
       "    </tr>\n",
       "    <tr>\n",
       "      <th>...</th>\n",
       "      <td>...</td>\n",
       "      <td>...</td>\n",
       "      <td>...</td>\n",
       "      <td>...</td>\n",
       "    </tr>\n",
       "    <tr>\n",
       "      <th>4670</th>\n",
       "      <td>175</td>\n",
       "      <td>Includes individuals 3 years and older</td>\n",
       "      <td>NaN</td>\n",
       "      <td>NaN</td>\n",
       "    </tr>\n",
       "    <tr>\n",
       "      <th>4671</th>\n",
       "      <td>176</td>\n",
       "      <td>NTIA/CPS survey.</td>\n",
       "      <td>NaN</td>\n",
       "      <td>NaN</td>\n",
       "    </tr>\n",
       "    <tr>\n",
       "      <th>4672</th>\n",
       "      <td>178</td>\n",
       "      <td>Estimated based on Survey's results. Populatio...</td>\n",
       "      <td>NaN</td>\n",
       "      <td>NaN</td>\n",
       "    </tr>\n",
       "    <tr>\n",
       "      <th>4673</th>\n",
       "      <td>179</td>\n",
       "      <td>Preliminary. Country estimate.</td>\n",
       "      <td>NaN</td>\n",
       "      <td>NaN</td>\n",
       "    </tr>\n",
       "    <tr>\n",
       "      <th>4674</th>\n",
       "      <td>180</td>\n",
       "      <td>The methodology used to estimated the figure f...</td>\n",
       "      <td>NaN</td>\n",
       "      <td>NaN</td>\n",
       "    </tr>\n",
       "  </tbody>\n",
       "</table>\n",
       "<p>4675 rows × 4 columns</p>\n",
       "</div>"
      ],
      "text/plain": [
       "          Country                                               Year  \\\n",
       "0     Afghanistan                                               2014   \n",
       "1     Afghanistan                                               2013   \n",
       "2     Afghanistan                                               2012   \n",
       "3     Afghanistan                                               2011   \n",
       "4     Afghanistan                                               2010   \n",
       "...           ...                                                ...   \n",
       "4670          175             Includes individuals 3 years and older   \n",
       "4671          176                                   NTIA/CPS survey.   \n",
       "4672          178  Estimated based on Survey's results. Populatio...   \n",
       "4673          179                     Preliminary. Country estimate.   \n",
       "4674          180  The methodology used to estimated the figure f...   \n",
       "\n",
       "      Internet_Users_Pct  Value Footnotes  \n",
       "0               6.390000              NaN  \n",
       "1               5.900000              NaN  \n",
       "2               5.454545              NaN  \n",
       "3               5.000000              NaN  \n",
       "4               4.000000              NaN  \n",
       "...                  ...              ...  \n",
       "4670                 NaN              NaN  \n",
       "4671                 NaN              NaN  \n",
       "4672                 NaN              NaN  \n",
       "4673                 NaN              NaN  \n",
       "4674                 NaN              NaN  \n",
       "\n",
       "[4675 rows x 4 columns]"
      ]
     },
     "execution_count": 111,
     "metadata": {},
     "output_type": "execute_result"
    }
   ],
   "source": [
    "internet_df.rename(columns = {\"Country or Area\": \"Country\", \"Year\": \"Year\", \"Value\":\"Internet_Users_Pct\"})"
   ]
  },
  {
   "cell_type": "code",
   "execution_count": 112,
   "id": "aff261b5",
   "metadata": {},
   "outputs": [
    {
     "data": {
      "text/html": [
       "<div>\n",
       "<style scoped>\n",
       "    .dataframe tbody tr th:only-of-type {\n",
       "        vertical-align: middle;\n",
       "    }\n",
       "\n",
       "    .dataframe tbody tr th {\n",
       "        vertical-align: top;\n",
       "    }\n",
       "\n",
       "    .dataframe thead th {\n",
       "        text-align: right;\n",
       "    }\n",
       "</style>\n",
       "<table border=\"1\" class=\"dataframe\">\n",
       "  <thead>\n",
       "    <tr style=\"text-align: right;\">\n",
       "      <th></th>\n",
       "      <th>Country</th>\n",
       "      <th>Year</th>\n",
       "      <th>Internet_Users_Pct</th>\n",
       "      <th>Value Footnotes</th>\n",
       "    </tr>\n",
       "  </thead>\n",
       "  <tbody>\n",
       "    <tr>\n",
       "      <th>0</th>\n",
       "      <td>Afghanistan</td>\n",
       "      <td>2014</td>\n",
       "      <td>6.390000</td>\n",
       "      <td>NaN</td>\n",
       "    </tr>\n",
       "    <tr>\n",
       "      <th>1</th>\n",
       "      <td>Afghanistan</td>\n",
       "      <td>2013</td>\n",
       "      <td>5.900000</td>\n",
       "      <td>NaN</td>\n",
       "    </tr>\n",
       "    <tr>\n",
       "      <th>2</th>\n",
       "      <td>Afghanistan</td>\n",
       "      <td>2012</td>\n",
       "      <td>5.454545</td>\n",
       "      <td>NaN</td>\n",
       "    </tr>\n",
       "    <tr>\n",
       "      <th>3</th>\n",
       "      <td>Afghanistan</td>\n",
       "      <td>2011</td>\n",
       "      <td>5.000000</td>\n",
       "      <td>NaN</td>\n",
       "    </tr>\n",
       "    <tr>\n",
       "      <th>4</th>\n",
       "      <td>Afghanistan</td>\n",
       "      <td>2010</td>\n",
       "      <td>4.000000</td>\n",
       "      <td>NaN</td>\n",
       "    </tr>\n",
       "    <tr>\n",
       "      <th>...</th>\n",
       "      <td>...</td>\n",
       "      <td>...</td>\n",
       "      <td>...</td>\n",
       "      <td>...</td>\n",
       "    </tr>\n",
       "    <tr>\n",
       "      <th>4670</th>\n",
       "      <td>175</td>\n",
       "      <td>Includes individuals 3 years and older</td>\n",
       "      <td>NaN</td>\n",
       "      <td>NaN</td>\n",
       "    </tr>\n",
       "    <tr>\n",
       "      <th>4671</th>\n",
       "      <td>176</td>\n",
       "      <td>NTIA/CPS survey.</td>\n",
       "      <td>NaN</td>\n",
       "      <td>NaN</td>\n",
       "    </tr>\n",
       "    <tr>\n",
       "      <th>4672</th>\n",
       "      <td>178</td>\n",
       "      <td>Estimated based on Survey's results. Populatio...</td>\n",
       "      <td>NaN</td>\n",
       "      <td>NaN</td>\n",
       "    </tr>\n",
       "    <tr>\n",
       "      <th>4673</th>\n",
       "      <td>179</td>\n",
       "      <td>Preliminary. Country estimate.</td>\n",
       "      <td>NaN</td>\n",
       "      <td>NaN</td>\n",
       "    </tr>\n",
       "    <tr>\n",
       "      <th>4674</th>\n",
       "      <td>180</td>\n",
       "      <td>The methodology used to estimated the figure f...</td>\n",
       "      <td>NaN</td>\n",
       "      <td>NaN</td>\n",
       "    </tr>\n",
       "  </tbody>\n",
       "</table>\n",
       "<p>4675 rows × 4 columns</p>\n",
       "</div>"
      ],
      "text/plain": [
       "          Country                                               Year  \\\n",
       "0     Afghanistan                                               2014   \n",
       "1     Afghanistan                                               2013   \n",
       "2     Afghanistan                                               2012   \n",
       "3     Afghanistan                                               2011   \n",
       "4     Afghanistan                                               2010   \n",
       "...           ...                                                ...   \n",
       "4670          175             Includes individuals 3 years and older   \n",
       "4671          176                                   NTIA/CPS survey.   \n",
       "4672          178  Estimated based on Survey's results. Populatio...   \n",
       "4673          179                     Preliminary. Country estimate.   \n",
       "4674          180  The methodology used to estimated the figure f...   \n",
       "\n",
       "      Internet_Users_Pct  Value Footnotes  \n",
       "0               6.390000              NaN  \n",
       "1               5.900000              NaN  \n",
       "2               5.454545              NaN  \n",
       "3               5.000000              NaN  \n",
       "4               4.000000              NaN  \n",
       "...                  ...              ...  \n",
       "4670                 NaN              NaN  \n",
       "4671                 NaN              NaN  \n",
       "4672                 NaN              NaN  \n",
       "4673                 NaN              NaN  \n",
       "4674                 NaN              NaN  \n",
       "\n",
       "[4675 rows x 4 columns]"
      ]
     },
     "execution_count": 112,
     "metadata": {},
     "output_type": "execute_result"
    }
   ],
   "source": [
    "internet_dfnew = internet_df.rename(columns = {\"Country or Area\": \"Country\", \"Year\": \"Year\", \"Value\":\"Internet_Users_Pct\"})\n",
    "internet_dfnew"
   ]
  },
  {
   "cell_type": "code",
   "execution_count": 113,
   "id": "3b84dc3e",
   "metadata": {},
   "outputs": [],
   "source": [
    "#16. Look at the number of observations in this dataset per year. What do you notice?"
   ]
  },
  {
   "cell_type": "code",
   "execution_count": 126,
   "id": "bc5c7b0d",
   "metadata": {},
   "outputs": [
    {
     "data": {
      "text/plain": [
       "Year\n",
       "1990                                                                                                                                                                                                                                                                                                                                                       210\n",
       "2011                                                                                                                                                                                                                                                                                                                                                       207\n",
       "2007                                                                                                                                                                                                                                                                                                                                                       206\n",
       "2008                                                                                                                                                                                                                                                                                                                                                       204\n",
       "2012                                                                                                                                                                                                                                                                                                                                                       203\n",
       "                                                                                                                                                                                                                                                                                                                                                          ... \n",
       "Estimated based on survey results.                                                                                                                                                                                                                                                                                                                           1\n",
       "Population age 10+.                                                                                                                                                                                                                                                                                                                                          1\n",
       "In the last 12 months. Individuals aged 10 and above.                                                                                                                                                                                                                                                                                                        1\n",
       "Estimated based on Survey results. Population age 10+.                                                                                                                                                                                                                                                                                                       1\n",
       "The methodology used to estimated the figure for 2011 is based on Zambians in formal employment which stand slightly above 500, 000, schools and colleges connected to the internet as well as average number of Citizens that visit cyber cafes.  Nevertheless, this figure is not inclusive of mobile internet users as a survey is yet to be done.        1\n",
       "Name: count, Length: 223, dtype: int64"
      ]
     },
     "execution_count": 126,
     "metadata": {},
     "output_type": "execute_result"
    }
   ],
   "source": [
    "internet_dfnew['Year'].value_counts()"
   ]
  },
  {
   "cell_type": "code",
   "execution_count": 127,
   "id": "4624b4ec",
   "metadata": {},
   "outputs": [],
   "source": [
    "# 17. What is the first year to have a non-zero internet users percentage value?"
   ]
  },
  {
   "cell_type": "code",
   "execution_count": 128,
   "id": "291a2629",
   "metadata": {},
   "outputs": [
    {
     "data": {
      "text/plain": [
       "['1990']"
      ]
     },
     "execution_count": 128,
     "metadata": {},
     "output_type": "execute_result"
    }
   ],
   "source": [
    "internet_dfnew.loc[internet_dfnew.Internet_Users_Pct > 0].sort_values(\"Year\")[\"Year\"].head(1).tolist()"
   ]
  },
  {
   "cell_type": "code",
   "execution_count": 129,
   "id": "28526e40",
   "metadata": {},
   "outputs": [],
   "source": [
    "#18. How does the distribution of internet users percent differ for 2000 and 2014?"
   ]
  },
  {
   "cell_type": "code",
   "execution_count": 136,
   "id": "ce148411",
   "metadata": {},
   "outputs": [],
   "source": [
    "internet_users_2000 = internet_dfnew[internet_dfnew['Year'] ==2000]"
   ]
  },
  {
   "cell_type": "code",
   "execution_count": 137,
   "id": "1797fc53",
   "metadata": {},
   "outputs": [
    {
     "name": "stdout",
     "output_type": "stream",
     "text": [
      "Empty DataFrame\n",
      "Columns: [Country, Year, Internet_Users_Pct, Value Footnotes]\n",
      "Index: []\n"
     ]
    }
   ],
   "source": [
    "print(internet_users_2000)"
   ]
  },
  {
   "cell_type": "code",
   "execution_count": 138,
   "id": "facbab30",
   "metadata": {},
   "outputs": [],
   "source": [
    "internet_users_2014 = internet_dfnew[internet_dfnew['Year'] ==2014]"
   ]
  },
  {
   "cell_type": "code",
   "execution_count": 139,
   "id": "d9718188",
   "metadata": {},
   "outputs": [
    {
     "name": "stdout",
     "output_type": "stream",
     "text": [
      "Empty DataFrame\n",
      "Columns: [Country, Year, Internet_Users_Pct, Value Footnotes]\n",
      "Index: []\n"
     ]
    }
   ],
   "source": [
    "print(internet_users_2014)"
   ]
  },
  {
   "cell_type": "code",
   "execution_count": null,
   "id": "8f9266d1",
   "metadata": {},
   "outputs": [],
   "source": [
    "#19. For how many countries was the percentage of internet users below 5% in 2014?"
   ]
  },
  {
   "cell_type": "code",
   "execution_count": null,
   "id": "4e257400",
   "metadata": {},
   "outputs": [],
   "source": [
    "internet_2014 = internet_dfnew[internet_dfnew['Year'] == 2014]"
   ]
  },
  {
   "cell_type": "code",
   "execution_count": null,
   "id": "5cb2d9f4",
   "metadata": {},
   "outputs": [],
   "source": [
    "print(internet_2014)"
   ]
  },
  {
   "cell_type": "code",
   "execution_count": null,
   "id": "75bdfd57",
   "metadata": {},
   "outputs": [],
   "source": [
    "#20 Merge the two DataFrames to one. Do this in a way that keeps **all rows** from each of the two DataFrames. \n",
    "#Call the new DataFrame `gdp_and_internet_use`. Look at the first and last few rows to confirm that it merged correctly."
   ]
  },
  {
   "cell_type": "code",
   "execution_count": null,
   "id": "3960ca72",
   "metadata": {},
   "outputs": [],
   "source": []
  },
  {
   "cell_type": "code",
   "execution_count": null,
   "id": "800d8564",
   "metadata": {},
   "outputs": [],
   "source": []
  },
  {
   "cell_type": "code",
   "execution_count": null,
   "id": "035345bd",
   "metadata": {},
   "outputs": [],
   "source": [
    "#21 Find the three countries with the highest internet users percentage in 2014. \n",
    "#Use a seaborn FacetGrid (https://seaborn.pydata.org/generated/seaborn.FacetGrid.html) to compare how the GDP per capita has changed over time for these three countries. \n",
    "#What do you notice?"
   ]
  },
  {
   "cell_type": "code",
   "execution_count": 141,
   "id": "1b279b11",
   "metadata": {},
   "outputs": [
    {
     "ename": "NameError",
     "evalue": "name 'internet_2014' is not defined",
     "output_type": "error",
     "traceback": [
      "\u001b[1;31m---------------------------------------------------------------------------\u001b[0m",
      "\u001b[1;31mNameError\u001b[0m                                 Traceback (most recent call last)",
      "Cell \u001b[1;32mIn[141], line 1\u001b[0m\n\u001b[1;32m----> 1\u001b[0m top3\u001b[38;5;241m=\u001b[39minternet_2014\u001b[38;5;241m.\u001b[39msort_values(\u001b[38;5;124m'\u001b[39m\u001b[38;5;124mInternet_Users_Pct\u001b[39m\u001b[38;5;124m'\u001b[39m)\u001b[38;5;241m.\u001b[39mCountry\u001b[38;5;241m.\u001b[39mtail(\u001b[38;5;241m3\u001b[39m)\u001b[38;5;241m.\u001b[39mto_list()\n",
      "\u001b[1;31mNameError\u001b[0m: name 'internet_2014' is not defined"
     ]
    }
   ],
   "source": [
    "top3=internet_2014.sort_values('Internet_Users_Pct').Country.tail(3).to_list()"
   ]
  },
  {
   "cell_type": "code",
   "execution_count": 142,
   "id": "9217613d",
   "metadata": {},
   "outputs": [
    {
     "ename": "NameError",
     "evalue": "name 'top_datagdp_df' is not defined",
     "output_type": "error",
     "traceback": [
      "\u001b[1;31m---------------------------------------------------------------------------\u001b[0m",
      "\u001b[1;31mNameError\u001b[0m                                 Traceback (most recent call last)",
      "Cell \u001b[1;32mIn[142], line 1\u001b[0m\n\u001b[1;32m----> 1\u001b[0m top_datagdp_df\u001b[38;5;241m.\u001b[39mloc[gdp_df\u001b[38;5;241m.\u001b[39mCountry\u001b[38;5;241m.\u001b[39misin(top3)]\n",
      "\u001b[1;31mNameError\u001b[0m: name 'top_datagdp_df' is not defined"
     ]
    }
   ],
   "source": [
    "top_datagdp_df.loc[gdp_df.Country.isin(top3)]"
   ]
  },
  {
   "cell_type": "code",
   "execution_count": null,
   "id": "9d7f4cc7",
   "metadata": {},
   "outputs": [],
   "source": [
    "g = sns.facetGrid(top3_data, col = \"Country\")\n",
    "g.map(sns.lineplot, \"Year\", \"GDP_Per_Capita\");"
   ]
  },
  {
   "cell_type": "code",
   "execution_count": null,
   "id": "d2f86060",
   "metadata": {},
   "outputs": [],
   "source": [
    "#22. Subset `gdp_and_internet_use` to just the year 2014. Save this as a new dataframe named `gdp_and_internet_use_2014`."
   ]
  },
  {
   "cell_type": "code",
   "execution_count": null,
   "id": "ba9330a5",
   "metadata": {},
   "outputs": [],
   "source": []
  }
 ],
 "metadata": {
  "kernelspec": {
   "display_name": "Python 3 (ipykernel)",
   "language": "python",
   "name": "python3"
  },
  "language_info": {
   "codemirror_mode": {
    "name": "ipython",
    "version": 3
   },
   "file_extension": ".py",
   "mimetype": "text/x-python",
   "name": "python",
   "nbconvert_exporter": "python",
   "pygments_lexer": "ipython3",
   "version": "3.11.5"
  }
 },
 "nbformat": 4,
 "nbformat_minor": 5
}
